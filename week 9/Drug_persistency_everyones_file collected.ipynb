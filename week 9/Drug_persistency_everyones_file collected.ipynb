{
  "nbformat": 4,
  "nbformat_minor": 0,
  "metadata": {
    "colab": {
      "name": "Drug_persistency.ipynb",
      "provenance": [],
      "collapsed_sections": [],
      "authorship_tag": "ABX9TyNGmEcHRc9ex4D0psTyAQte"
    },
    "kernelspec": {
      "name": "python3",
      "display_name": "Python 3"
    },
    "language_info": {
      "name": "python"
    }
  },
  "cells": [
    {
      "cell_type": "code",
      "metadata": {
        "id": "2sznSCq6q4ZX"
      },
      "source": [
        "# importing file module\n",
        "from google.colab import files"
      ],
      "execution_count": 1,
      "outputs": []
    },
    {
      "cell_type": "code",
      "metadata": {
        "colab": {
          "resources": {
            "http://localhost:8080/nbextensions/google.colab/files.js": {
              "data": "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",
              "ok": true,
              "headers": [
                [
                  "content-type",
                  "application/javascript"
                ]
              ],
              "status": 200,
              "status_text": ""
            }
          },
          "base_uri": "https://localhost:8080/",
          "height": 73
        },
        "id": "p8Cj7akhrKmO",
        "outputId": "2fb150eb-dbb9-46ba-ed16-a106849e13f6"
      },
      "source": [
        "# uploading files\n",
        "uploaded = files.upload()"
      ],
      "execution_count": 2,
      "outputs": [
        {
          "output_type": "display_data",
          "data": {
            "text/html": [
              "\n",
              "     <input type=\"file\" id=\"files-fd3b5c44-3869-4cf0-a548-00839a690cc3\" name=\"files[]\" multiple disabled\n",
              "        style=\"border:none\" />\n",
              "     <output id=\"result-fd3b5c44-3869-4cf0-a548-00839a690cc3\">\n",
              "      Upload widget is only available when the cell has been executed in the\n",
              "      current browser session. Please rerun this cell to enable.\n",
              "      </output>\n",
              "      <script src=\"/nbextensions/google.colab/files.js\"></script> "
            ],
            "text/plain": [
              "<IPython.core.display.HTML object>"
            ]
          },
          "metadata": {}
        },
        {
          "output_type": "stream",
          "name": "stdout",
          "text": [
            "Saving Healthcare_dataset.xlsx to Healthcare_dataset.xlsx\n"
          ]
        }
      ]
    },
    {
      "cell_type": "markdown",
      "metadata": {
        "id": "8CRjIID6roPj"
      },
      "source": [
        "Importing libraries"
      ]
    },
    {
      "cell_type": "code",
      "metadata": {
        "id": "e62bAELBrnis"
      },
      "source": [
        "import pandas as pd\n",
        "import matplotlib.pyplot as plt\n",
        "import seaborn as sns\n",
        "import numpy as np"
      ],
      "execution_count": 3,
      "outputs": []
    },
    {
      "cell_type": "markdown",
      "metadata": {
        "id": "RqcPUzTur6Ca"
      },
      "source": [
        "Loading dataset"
      ]
    },
    {
      "cell_type": "code",
      "metadata": {
        "colab": {
          "base_uri": "https://localhost:8080/",
          "height": 312
        },
        "id": "GicpcUkJr93J",
        "outputId": "fd2585c9-774e-4945-8708-acff73e3ae0f"
      },
      "source": [
        "df = pd.read_excel('Healthcare_dataset.xlsx')\n",
        "df.head()"
      ],
      "execution_count": 7,
      "outputs": [
        {
          "output_type": "execute_result",
          "data": {
            "text/html": [
              "<div>\n",
              "<style scoped>\n",
              "    .dataframe tbody tr th:only-of-type {\n",
              "        vertical-align: middle;\n",
              "    }\n",
              "\n",
              "    .dataframe tbody tr th {\n",
              "        vertical-align: top;\n",
              "    }\n",
              "\n",
              "    .dataframe thead th {\n",
              "        text-align: right;\n",
              "    }\n",
              "</style>\n",
              "<table border=\"1\" class=\"dataframe\">\n",
              "  <thead>\n",
              "    <tr style=\"text-align: right;\">\n",
              "      <th></th>\n",
              "      <th>Ptid</th>\n",
              "      <th>Persistency_Flag</th>\n",
              "      <th>Gender</th>\n",
              "      <th>Race</th>\n",
              "      <th>Ethnicity</th>\n",
              "      <th>Region</th>\n",
              "      <th>Age_Bucket</th>\n",
              "      <th>Ntm_Speciality</th>\n",
              "      <th>Ntm_Specialist_Flag</th>\n",
              "      <th>Ntm_Speciality_Bucket</th>\n",
              "      <th>Gluco_Record_Prior_Ntm</th>\n",
              "      <th>Gluco_Record_During_Rx</th>\n",
              "      <th>Dexa_Freq_During_Rx</th>\n",
              "      <th>Dexa_During_Rx</th>\n",
              "      <th>Frag_Frac_Prior_Ntm</th>\n",
              "      <th>Frag_Frac_During_Rx</th>\n",
              "      <th>Risk_Segment_Prior_Ntm</th>\n",
              "      <th>Tscore_Bucket_Prior_Ntm</th>\n",
              "      <th>Risk_Segment_During_Rx</th>\n",
              "      <th>Tscore_Bucket_During_Rx</th>\n",
              "      <th>Change_T_Score</th>\n",
              "      <th>Change_Risk_Segment</th>\n",
              "      <th>Adherent_Flag</th>\n",
              "      <th>Idn_Indicator</th>\n",
              "      <th>Injectable_Experience_During_Rx</th>\n",
              "      <th>Comorb_Encounter_For_Screening_For_Malignant_Neoplasms</th>\n",
              "      <th>Comorb_Encounter_For_Immunization</th>\n",
              "      <th>Comorb_Encntr_For_General_Exam_W_O_Complaint,_Susp_Or_Reprtd_Dx</th>\n",
              "      <th>Comorb_Vitamin_D_Deficiency</th>\n",
              "      <th>Comorb_Other_Joint_Disorder_Not_Elsewhere_Classified</th>\n",
              "      <th>Comorb_Encntr_For_Oth_Sp_Exam_W_O_Complaint_Suspected_Or_Reprtd_Dx</th>\n",
              "      <th>Comorb_Long_Term_Current_Drug_Therapy</th>\n",
              "      <th>Comorb_Dorsalgia</th>\n",
              "      <th>Comorb_Personal_History_Of_Other_Diseases_And_Conditions</th>\n",
              "      <th>Comorb_Other_Disorders_Of_Bone_Density_And_Structure</th>\n",
              "      <th>Comorb_Disorders_of_lipoprotein_metabolism_and_other_lipidemias</th>\n",
              "      <th>Comorb_Osteoporosis_without_current_pathological_fracture</th>\n",
              "      <th>Comorb_Personal_history_of_malignant_neoplasm</th>\n",
              "      <th>Comorb_Gastro_esophageal_reflux_disease</th>\n",
              "      <th>Concom_Cholesterol_And_Triglyceride_Regulating_Preparations</th>\n",
              "      <th>Concom_Narcotics</th>\n",
              "      <th>Concom_Systemic_Corticosteroids_Plain</th>\n",
              "      <th>Concom_Anti_Depressants_And_Mood_Stabilisers</th>\n",
              "      <th>Concom_Fluoroquinolones</th>\n",
              "      <th>Concom_Cephalosporins</th>\n",
              "      <th>Concom_Macrolides_And_Similar_Types</th>\n",
              "      <th>Concom_Broad_Spectrum_Penicillins</th>\n",
              "      <th>Concom_Anaesthetics_General</th>\n",
              "      <th>Concom_Viral_Vaccines</th>\n",
              "      <th>Risk_Type_1_Insulin_Dependent_Diabetes</th>\n",
              "      <th>Risk_Osteogenesis_Imperfecta</th>\n",
              "      <th>Risk_Rheumatoid_Arthritis</th>\n",
              "      <th>Risk_Untreated_Chronic_Hyperthyroidism</th>\n",
              "      <th>Risk_Untreated_Chronic_Hypogonadism</th>\n",
              "      <th>Risk_Untreated_Early_Menopause</th>\n",
              "      <th>Risk_Patient_Parent_Fractured_Their_Hip</th>\n",
              "      <th>Risk_Smoking_Tobacco</th>\n",
              "      <th>Risk_Chronic_Malnutrition_Or_Malabsorption</th>\n",
              "      <th>Risk_Chronic_Liver_Disease</th>\n",
              "      <th>Risk_Family_History_Of_Osteoporosis</th>\n",
              "      <th>Risk_Low_Calcium_Intake</th>\n",
              "      <th>Risk_Vitamin_D_Insufficiency</th>\n",
              "      <th>Risk_Poor_Health_Frailty</th>\n",
              "      <th>Risk_Excessive_Thinness</th>\n",
              "      <th>Risk_Hysterectomy_Oophorectomy</th>\n",
              "      <th>Risk_Estrogen_Deficiency</th>\n",
              "      <th>Risk_Immobilization</th>\n",
              "      <th>Risk_Recurring_Falls</th>\n",
              "      <th>Count_Of_Risks</th>\n",
              "    </tr>\n",
              "  </thead>\n",
              "  <tbody>\n",
              "    <tr>\n",
              "      <th>0</th>\n",
              "      <td>P1</td>\n",
              "      <td>Persistent</td>\n",
              "      <td>Male</td>\n",
              "      <td>Caucasian</td>\n",
              "      <td>Not Hispanic</td>\n",
              "      <td>West</td>\n",
              "      <td>&gt;75</td>\n",
              "      <td>GENERAL PRACTITIONER</td>\n",
              "      <td>Others</td>\n",
              "      <td>OB/GYN/Others/PCP/Unknown</td>\n",
              "      <td>N</td>\n",
              "      <td>N</td>\n",
              "      <td>0</td>\n",
              "      <td>N</td>\n",
              "      <td>N</td>\n",
              "      <td>N</td>\n",
              "      <td>VLR_LR</td>\n",
              "      <td>&gt;-2.5</td>\n",
              "      <td>VLR_LR</td>\n",
              "      <td>&lt;=-2.5</td>\n",
              "      <td>No change</td>\n",
              "      <td>Unknown</td>\n",
              "      <td>Adherent</td>\n",
              "      <td>N</td>\n",
              "      <td>Y</td>\n",
              "      <td>N</td>\n",
              "      <td>Y</td>\n",
              "      <td>Y</td>\n",
              "      <td>N</td>\n",
              "      <td>N</td>\n",
              "      <td>Y</td>\n",
              "      <td>N</td>\n",
              "      <td>Y</td>\n",
              "      <td>Y</td>\n",
              "      <td>N</td>\n",
              "      <td>N</td>\n",
              "      <td>N</td>\n",
              "      <td>N</td>\n",
              "      <td>N</td>\n",
              "      <td>N</td>\n",
              "      <td>N</td>\n",
              "      <td>N</td>\n",
              "      <td>N</td>\n",
              "      <td>N</td>\n",
              "      <td>N</td>\n",
              "      <td>N</td>\n",
              "      <td>N</td>\n",
              "      <td>N</td>\n",
              "      <td>N</td>\n",
              "      <td>N</td>\n",
              "      <td>N</td>\n",
              "      <td>N</td>\n",
              "      <td>N</td>\n",
              "      <td>N</td>\n",
              "      <td>N</td>\n",
              "      <td>N</td>\n",
              "      <td>N</td>\n",
              "      <td>N</td>\n",
              "      <td>N</td>\n",
              "      <td>N</td>\n",
              "      <td>N</td>\n",
              "      <td>N</td>\n",
              "      <td>N</td>\n",
              "      <td>N</td>\n",
              "      <td>N</td>\n",
              "      <td>N</td>\n",
              "      <td>N</td>\n",
              "      <td>N</td>\n",
              "      <td>0</td>\n",
              "    </tr>\n",
              "    <tr>\n",
              "      <th>1</th>\n",
              "      <td>P2</td>\n",
              "      <td>Non-Persistent</td>\n",
              "      <td>Male</td>\n",
              "      <td>Asian</td>\n",
              "      <td>Not Hispanic</td>\n",
              "      <td>West</td>\n",
              "      <td>55-65</td>\n",
              "      <td>GENERAL PRACTITIONER</td>\n",
              "      <td>Others</td>\n",
              "      <td>OB/GYN/Others/PCP/Unknown</td>\n",
              "      <td>N</td>\n",
              "      <td>N</td>\n",
              "      <td>0</td>\n",
              "      <td>N</td>\n",
              "      <td>N</td>\n",
              "      <td>N</td>\n",
              "      <td>VLR_LR</td>\n",
              "      <td>&gt;-2.5</td>\n",
              "      <td>Unknown</td>\n",
              "      <td>Unknown</td>\n",
              "      <td>Unknown</td>\n",
              "      <td>Unknown</td>\n",
              "      <td>Adherent</td>\n",
              "      <td>N</td>\n",
              "      <td>Y</td>\n",
              "      <td>N</td>\n",
              "      <td>N</td>\n",
              "      <td>Y</td>\n",
              "      <td>N</td>\n",
              "      <td>N</td>\n",
              "      <td>N</td>\n",
              "      <td>N</td>\n",
              "      <td>N</td>\n",
              "      <td>N</td>\n",
              "      <td>N</td>\n",
              "      <td>N</td>\n",
              "      <td>N</td>\n",
              "      <td>N</td>\n",
              "      <td>N</td>\n",
              "      <td>N</td>\n",
              "      <td>N</td>\n",
              "      <td>N</td>\n",
              "      <td>N</td>\n",
              "      <td>N</td>\n",
              "      <td>N</td>\n",
              "      <td>N</td>\n",
              "      <td>N</td>\n",
              "      <td>N</td>\n",
              "      <td>N</td>\n",
              "      <td>N</td>\n",
              "      <td>N</td>\n",
              "      <td>N</td>\n",
              "      <td>N</td>\n",
              "      <td>N</td>\n",
              "      <td>N</td>\n",
              "      <td>N</td>\n",
              "      <td>N</td>\n",
              "      <td>N</td>\n",
              "      <td>N</td>\n",
              "      <td>N</td>\n",
              "      <td>N</td>\n",
              "      <td>N</td>\n",
              "      <td>N</td>\n",
              "      <td>N</td>\n",
              "      <td>N</td>\n",
              "      <td>N</td>\n",
              "      <td>N</td>\n",
              "      <td>N</td>\n",
              "      <td>0</td>\n",
              "    </tr>\n",
              "    <tr>\n",
              "      <th>2</th>\n",
              "      <td>P3</td>\n",
              "      <td>Non-Persistent</td>\n",
              "      <td>Female</td>\n",
              "      <td>Other/Unknown</td>\n",
              "      <td>Hispanic</td>\n",
              "      <td>Midwest</td>\n",
              "      <td>65-75</td>\n",
              "      <td>GENERAL PRACTITIONER</td>\n",
              "      <td>Others</td>\n",
              "      <td>OB/GYN/Others/PCP/Unknown</td>\n",
              "      <td>N</td>\n",
              "      <td>N</td>\n",
              "      <td>0</td>\n",
              "      <td>N</td>\n",
              "      <td>N</td>\n",
              "      <td>N</td>\n",
              "      <td>HR_VHR</td>\n",
              "      <td>&lt;=-2.5</td>\n",
              "      <td>HR_VHR</td>\n",
              "      <td>&lt;=-2.5</td>\n",
              "      <td>No change</td>\n",
              "      <td>No change</td>\n",
              "      <td>Adherent</td>\n",
              "      <td>N</td>\n",
              "      <td>Y</td>\n",
              "      <td>Y</td>\n",
              "      <td>N</td>\n",
              "      <td>Y</td>\n",
              "      <td>N</td>\n",
              "      <td>N</td>\n",
              "      <td>N</td>\n",
              "      <td>N</td>\n",
              "      <td>N</td>\n",
              "      <td>N</td>\n",
              "      <td>N</td>\n",
              "      <td>N</td>\n",
              "      <td>N</td>\n",
              "      <td>N</td>\n",
              "      <td>N</td>\n",
              "      <td>Y</td>\n",
              "      <td>N</td>\n",
              "      <td>N</td>\n",
              "      <td>N</td>\n",
              "      <td>N</td>\n",
              "      <td>N</td>\n",
              "      <td>N</td>\n",
              "      <td>N</td>\n",
              "      <td>N</td>\n",
              "      <td>N</td>\n",
              "      <td>N</td>\n",
              "      <td>N</td>\n",
              "      <td>N</td>\n",
              "      <td>N</td>\n",
              "      <td>N</td>\n",
              "      <td>N</td>\n",
              "      <td>Y</td>\n",
              "      <td>N</td>\n",
              "      <td>N</td>\n",
              "      <td>N</td>\n",
              "      <td>N</td>\n",
              "      <td>Y</td>\n",
              "      <td>N</td>\n",
              "      <td>N</td>\n",
              "      <td>N</td>\n",
              "      <td>N</td>\n",
              "      <td>N</td>\n",
              "      <td>N</td>\n",
              "      <td>N</td>\n",
              "      <td>2</td>\n",
              "    </tr>\n",
              "    <tr>\n",
              "      <th>3</th>\n",
              "      <td>P4</td>\n",
              "      <td>Non-Persistent</td>\n",
              "      <td>Female</td>\n",
              "      <td>Caucasian</td>\n",
              "      <td>Not Hispanic</td>\n",
              "      <td>Midwest</td>\n",
              "      <td>&gt;75</td>\n",
              "      <td>GENERAL PRACTITIONER</td>\n",
              "      <td>Others</td>\n",
              "      <td>OB/GYN/Others/PCP/Unknown</td>\n",
              "      <td>N</td>\n",
              "      <td>Y</td>\n",
              "      <td>0</td>\n",
              "      <td>N</td>\n",
              "      <td>N</td>\n",
              "      <td>N</td>\n",
              "      <td>HR_VHR</td>\n",
              "      <td>&gt;-2.5</td>\n",
              "      <td>HR_VHR</td>\n",
              "      <td>&lt;=-2.5</td>\n",
              "      <td>No change</td>\n",
              "      <td>No change</td>\n",
              "      <td>Adherent</td>\n",
              "      <td>N</td>\n",
              "      <td>Y</td>\n",
              "      <td>N</td>\n",
              "      <td>Y</td>\n",
              "      <td>Y</td>\n",
              "      <td>N</td>\n",
              "      <td>Y</td>\n",
              "      <td>N</td>\n",
              "      <td>N</td>\n",
              "      <td>Y</td>\n",
              "      <td>N</td>\n",
              "      <td>N</td>\n",
              "      <td>Y</td>\n",
              "      <td>N</td>\n",
              "      <td>N</td>\n",
              "      <td>Y</td>\n",
              "      <td>N</td>\n",
              "      <td>Y</td>\n",
              "      <td>Y</td>\n",
              "      <td>N</td>\n",
              "      <td>N</td>\n",
              "      <td>N</td>\n",
              "      <td>N</td>\n",
              "      <td>N</td>\n",
              "      <td>N</td>\n",
              "      <td>Y</td>\n",
              "      <td>N</td>\n",
              "      <td>N</td>\n",
              "      <td>N</td>\n",
              "      <td>N</td>\n",
              "      <td>N</td>\n",
              "      <td>N</td>\n",
              "      <td>N</td>\n",
              "      <td>Y</td>\n",
              "      <td>N</td>\n",
              "      <td>N</td>\n",
              "      <td>N</td>\n",
              "      <td>N</td>\n",
              "      <td>N</td>\n",
              "      <td>N</td>\n",
              "      <td>N</td>\n",
              "      <td>N</td>\n",
              "      <td>N</td>\n",
              "      <td>N</td>\n",
              "      <td>N</td>\n",
              "      <td>1</td>\n",
              "    </tr>\n",
              "    <tr>\n",
              "      <th>4</th>\n",
              "      <td>P5</td>\n",
              "      <td>Non-Persistent</td>\n",
              "      <td>Female</td>\n",
              "      <td>Caucasian</td>\n",
              "      <td>Not Hispanic</td>\n",
              "      <td>Midwest</td>\n",
              "      <td>&gt;75</td>\n",
              "      <td>GENERAL PRACTITIONER</td>\n",
              "      <td>Others</td>\n",
              "      <td>OB/GYN/Others/PCP/Unknown</td>\n",
              "      <td>Y</td>\n",
              "      <td>Y</td>\n",
              "      <td>0</td>\n",
              "      <td>N</td>\n",
              "      <td>N</td>\n",
              "      <td>N</td>\n",
              "      <td>HR_VHR</td>\n",
              "      <td>&lt;=-2.5</td>\n",
              "      <td>Unknown</td>\n",
              "      <td>Unknown</td>\n",
              "      <td>Unknown</td>\n",
              "      <td>Unknown</td>\n",
              "      <td>Adherent</td>\n",
              "      <td>N</td>\n",
              "      <td>Y</td>\n",
              "      <td>Y</td>\n",
              "      <td>Y</td>\n",
              "      <td>Y</td>\n",
              "      <td>N</td>\n",
              "      <td>N</td>\n",
              "      <td>N</td>\n",
              "      <td>N</td>\n",
              "      <td>Y</td>\n",
              "      <td>Y</td>\n",
              "      <td>N</td>\n",
              "      <td>N</td>\n",
              "      <td>N</td>\n",
              "      <td>N</td>\n",
              "      <td>N</td>\n",
              "      <td>N</td>\n",
              "      <td>Y</td>\n",
              "      <td>Y</td>\n",
              "      <td>Y</td>\n",
              "      <td>N</td>\n",
              "      <td>N</td>\n",
              "      <td>N</td>\n",
              "      <td>N</td>\n",
              "      <td>N</td>\n",
              "      <td>N</td>\n",
              "      <td>N</td>\n",
              "      <td>N</td>\n",
              "      <td>N</td>\n",
              "      <td>N</td>\n",
              "      <td>N</td>\n",
              "      <td>N</td>\n",
              "      <td>N</td>\n",
              "      <td>Y</td>\n",
              "      <td>N</td>\n",
              "      <td>N</td>\n",
              "      <td>N</td>\n",
              "      <td>N</td>\n",
              "      <td>N</td>\n",
              "      <td>N</td>\n",
              "      <td>N</td>\n",
              "      <td>N</td>\n",
              "      <td>N</td>\n",
              "      <td>N</td>\n",
              "      <td>N</td>\n",
              "      <td>1</td>\n",
              "    </tr>\n",
              "  </tbody>\n",
              "</table>\n",
              "</div>"
            ],
            "text/plain": [
              "  Ptid Persistency_Flag  ... Risk_Recurring_Falls Count_Of_Risks\n",
              "0   P1       Persistent  ...                    N              0\n",
              "1   P2   Non-Persistent  ...                    N              0\n",
              "2   P3   Non-Persistent  ...                    N              2\n",
              "3   P4   Non-Persistent  ...                    N              1\n",
              "4   P5   Non-Persistent  ...                    N              1\n",
              "\n",
              "[5 rows x 69 columns]"
            ]
          },
          "metadata": {},
          "execution_count": 7
        }
      ]
    },
    {
      "cell_type": "code",
      "metadata": {
        "colab": {
          "base_uri": "https://localhost:8080/"
        },
        "id": "5KAz9maUtPSd",
        "outputId": "92156849-f945-4d50-cd8d-27fb8f07a3ff"
      },
      "source": [
        "# dataframe shape\n",
        "print(df.shape)\n",
        "# checking for duplicates\n",
        "print(df.Ptid.unique().shape)"
      ],
      "execution_count": 8,
      "outputs": [
        {
          "output_type": "stream",
          "name": "stdout",
          "text": [
            "(3424, 69)\n",
            "(3424,)\n"
          ]
        }
      ]
    },
    {
      "cell_type": "code",
      "metadata": {
        "colab": {
          "base_uri": "https://localhost:8080/"
        },
        "id": "UlM7VKB6yJC2",
        "outputId": "f782c2ec-132a-4cb0-8b60-e93ff84ad0af"
      },
      "source": [
        "#creating categorical column list\n",
        "cat_cols = list(df.select_dtypes(['object']).columns)\n",
        "print(len(cat_cols))"
      ],
      "execution_count": 19,
      "outputs": [
        {
          "output_type": "stream",
          "name": "stdout",
          "text": [
            "67\n"
          ]
        }
      ]
    },
    {
      "cell_type": "code",
      "metadata": {
        "colab": {
          "base_uri": "https://localhost:8080/"
        },
        "id": "jEsE-01KyQk9",
        "outputId": "a0c3b355-1a48-462d-d6b2-52830034d796"
      },
      "source": [
        "#creating column of numerical columns\n",
        "num_cols = list(df.select_dtypes(['int64']).columns)\n",
        "print(len(num_cols))\n",
        "num_cols"
      ],
      "execution_count": 20,
      "outputs": [
        {
          "output_type": "stream",
          "name": "stdout",
          "text": [
            "2\n"
          ]
        },
        {
          "output_type": "execute_result",
          "data": {
            "text/plain": [
              "['Dexa_Freq_During_Rx', 'Count_Of_Risks']"
            ]
          },
          "metadata": {},
          "execution_count": 20
        }
      ]
    },
    {
      "cell_type": "markdown",
      "metadata": {
        "id": "RlOa1IPvtSc1"
      },
      "source": [
        "Checking for missing values"
      ]
    },
    {
      "cell_type": "code",
      "metadata": {
        "colab": {
          "base_uri": "https://localhost:8080/",
          "height": 609
        },
        "id": "pCNiRpRatlw8",
        "outputId": "1072917a-5580-4a19-ea38-8868f8025ea2"
      },
      "source": [
        "ax = df.isna().sum().sort_values().plot(kind = 'barh', figsize = (9, 10))\n",
        "plt.title('Percentage of Missing Values Per Column in Train Set', fontdict={'size':15})\n",
        "for p in ax.patches:\n",
        "    percentage ='{:,.0f}%'.format((p.get_width()/df.shape[0])*100)\n",
        "    width, height =p.get_width(),p.get_height()\n",
        "    x=p.get_x()+width+0.02\n",
        "    y=p.get_y()+height/2\n",
        "    ax.annotate(percentage,(x,y))"
      ],
      "execution_count": 10,
      "outputs": [
        {
          "output_type": "display_data",
          "data": {
            "image/png": "[encoded data removed]",
            "text/plain": [
              "<Figure size 648x720 with 1 Axes>"
            ]
          },
          "metadata": {
            "needs_background": "light"
          }
        }
      ]
    },
    {
      "cell_type": "markdown",
      "metadata": {
        "id": "V0bT_pRDuaNi"
      },
      "source": [
        "**Outlier Identification and Treatment**"
      ]
    },
    {
      "cell_type": "markdown",
      "metadata": {
        "id": "MQGZ2fK9uj6Y"
      },
      "source": [
        "1. Identifying and treating using Boolean method"
      ]
    },
    {
      "cell_type": "code",
      "metadata": {
        "id": "C_LmNmE6ugig"
      },
      "source": [
        "#making copy of dataset\n",
        "df2=df.copy()"
      ],
      "execution_count": 75,
      "outputs": []
    },
    {
      "cell_type": "markdown",
      "metadata": {
        "id": "jnaK6exB8wI9"
      },
      "source": [
        "For column Dexa_Freq_During_Rx"
      ]
    },
    {
      "cell_type": "code",
      "metadata": {
        "colab": {
          "base_uri": "https://localhost:8080/"
        },
        "id": "WdI2Zymcu5Un",
        "outputId": "1209fbc1-4243-4cf8-9b06-222fa0d6b81d"
      },
      "source": [
        "#for Dexa frequency during RX, find IQR\n",
        "Q1 = df2['Dexa_Freq_During_Rx'].quantile(0.25)\n",
        "Q3 = df2['Dexa_Freq_During_Rx'].quantile(0.75)\n",
        "IQR=Q3-Q1\n",
        "IQR"
      ],
      "execution_count": 76,
      "outputs": [
        {
          "output_type": "execute_result",
          "data": {
            "text/plain": [
              "3.0"
            ]
          },
          "metadata": {},
          "execution_count": 76
        }
      ]
    },
    {
      "cell_type": "code",
      "metadata": {
        "colab": {
          "base_uri": "https://localhost:8080/"
        },
        "id": "FFTQSGv1vTj_",
        "outputId": "349a2757-020c-4069-f9d6-569a7e1ad659"
      },
      "source": [
        "#create a Boolean mask that sums up the number of possible outliers in column using the IQR above.\n",
        "mask_high = (df2['Dexa_Freq_During_Rx'] > (Q3 + 1.5 * IQR))\n",
        "mask_high"
      ],
      "execution_count": 77,
      "outputs": [
        {
          "output_type": "execute_result",
          "data": {
            "text/plain": [
              "0       False\n",
              "1       False\n",
              "2       False\n",
              "3       False\n",
              "4       False\n",
              "        ...  \n",
              "3419    False\n",
              "3420    False\n",
              "3421    False\n",
              "3422    False\n",
              "3423    False\n",
              "Name: Dexa_Freq_During_Rx, Length: 3424, dtype: bool"
            ]
          },
          "metadata": {},
          "execution_count": 77
        }
      ]
    },
    {
      "cell_type": "code",
      "metadata": {
        "colab": {
          "base_uri": "https://localhost:8080/"
        },
        "id": "RlxNOrJ7vgGF",
        "outputId": "8c16ba8a-0588-4e18-b6e4-5e7b942608bd"
      },
      "source": [
        "mask_high.sum() #number of outliers for dexa_freq_during_rx"
      ],
      "execution_count": 78,
      "outputs": [
        {
          "output_type": "execute_result",
          "data": {
            "text/plain": [
              "460"
            ]
          },
          "metadata": {},
          "execution_count": 78
        }
      ]
    },
    {
      "cell_type": "code",
      "metadata": {
        "colab": {
          "base_uri": "https://localhost:8080/"
        },
        "id": "iq8UJ8Hb86oU",
        "outputId": "1cfbbfba-8629-47eb-a500-5fa00e1b294c"
      },
      "source": [
        "#find and change the values of the high outliers,this is call capping \n",
        "df2.Dexa_Freq_During_Rx[mask_high]"
      ],
      "execution_count": 79,
      "outputs": [
        {
          "output_type": "execute_result",
          "data": {
            "text/plain": [
              "32      20\n",
              "33      13\n",
              "62      12\n",
              "65      20\n",
              "89      10\n",
              "        ..\n",
              "3384    12\n",
              "3396    10\n",
              "3400    12\n",
              "3411     8\n",
              "3414     8\n",
              "Name: Dexa_Freq_During_Rx, Length: 460, dtype: int64"
            ]
          },
          "metadata": {},
          "execution_count": 79
        }
      ]
    },
    {
      "cell_type": "markdown",
      "metadata": {
        "id": "CGfEJmbi9Vty"
      },
      "source": [
        "For column Count_Of_Risks"
      ]
    },
    {
      "cell_type": "code",
      "metadata": {
        "colab": {
          "base_uri": "https://localhost:8080/"
        },
        "id": "JRX4R6Hcvyql",
        "outputId": "eaa1dae0-522d-4c6a-8249-85b9bce86b20"
      },
      "source": [
        "#for Count_Of_Risks, find IQR\n",
        "Q1 = df2['Count_Of_Risks'].quantile(0.25)\n",
        "Q3 = df2['Count_Of_Risks'].quantile(0.75)\n",
        "IQR=Q3-Q1\n",
        "IQR"
      ],
      "execution_count": 80,
      "outputs": [
        {
          "output_type": "execute_result",
          "data": {
            "text/plain": [
              "2.0"
            ]
          },
          "metadata": {},
          "execution_count": 80
        }
      ]
    },
    {
      "cell_type": "code",
      "metadata": {
        "colab": {
          "base_uri": "https://localhost:8080/"
        },
        "id": "BVtLI4LFwVJz",
        "outputId": "b53909d5-00a8-4e73-c846-666d5184e820"
      },
      "source": [
        "#create a Boolean mask that sums up the number of possible outliers in column using the IQR above.\n",
        "mask_high = (df2['Count_Of_Risks'] > (Q3 + 1.5 * IQR))\n",
        "mask_high"
      ],
      "execution_count": 83,
      "outputs": [
        {
          "output_type": "execute_result",
          "data": {
            "text/plain": [
              "0       False\n",
              "1       False\n",
              "2       False\n",
              "3       False\n",
              "4       False\n",
              "        ...  \n",
              "3419    False\n",
              "3420    False\n",
              "3421    False\n",
              "3422    False\n",
              "3423    False\n",
              "Name: Count_Of_Risks, Length: 3424, dtype: bool"
            ]
          },
          "metadata": {},
          "execution_count": 83
        }
      ]
    },
    {
      "cell_type": "code",
      "metadata": {
        "colab": {
          "base_uri": "https://localhost:8080/"
        },
        "id": "ugMXfFgUwi-z",
        "outputId": "448c6b98-ca2a-4b96-b50f-6f3c311f373d"
      },
      "source": [
        "mask_high.sum() #number of outliers for count_of_risks"
      ],
      "execution_count": 84,
      "outputs": [
        {
          "output_type": "execute_result",
          "data": {
            "text/plain": [
              "8"
            ]
          },
          "metadata": {},
          "execution_count": 84
        }
      ]
    },
    {
      "cell_type": "code",
      "metadata": {
        "colab": {
          "base_uri": "https://localhost:8080/"
        },
        "id": "Qu6pmN5U9nnW",
        "outputId": "39533ce1-e7e5-4415-f2f8-d405caf0c17a"
      },
      "source": [
        "##find and change the values of the high outliers,this is call capping \n",
        "df2.Count_Of_Risks[mask_high]"
      ],
      "execution_count": 85,
      "outputs": [
        {
          "output_type": "execute_result",
          "data": {
            "text/plain": [
              "342     6\n",
              "817     7\n",
              "1059    7\n",
              "2601    6\n",
              "2860    6\n",
              "3045    6\n",
              "3146    6\n",
              "3340    6\n",
              "Name: Count_Of_Risks, dtype: int64"
            ]
          },
          "metadata": {},
          "execution_count": 85
        }
      ]
    },
    {
      "cell_type": "markdown",
      "metadata": {
        "id": "-iavF6fpw_zR"
      },
      "source": [
        "2. Identifying outliers using  boxplots"
      ]
    },
    {
      "cell_type": "code",
      "metadata": {
        "colab": {
          "base_uri": "https://localhost:8080/",
          "height": 511
        },
        "id": "OwnlPrzRxFxp",
        "outputId": "47aa11e4-fc3a-42de-c173-077bc91758b5"
      },
      "source": [
        "# creating a box plot of numerical columns to identify outliers\n",
        "def boxplot(df, cols):\n",
        "    for col in cols:\n",
        "        sns.set_style('whitegrid')\n",
        "        sns.boxplot(y=col, data=df)\n",
        "        plt.title('Boxplot of ' + col)\n",
        "        plt.ylabel(col) #setting text for y axis\n",
        "        plt.show()\n",
        "boxplot(df, num_cols)"
      ],
      "execution_count": 86,
      "outputs": [
        {
          "output_type": "display_data",
          "data": {
            "image/png": "[encoded data removed]",
            "text/plain": [
              "<Figure size 432x288 with 1 Axes>"
            ]
          },
          "metadata": {}
        },
        {
          "output_type": "display_data",
          "data": {
            "image/png": "[encoded data removed]",
            "text/plain": [
              "<Figure size 432x288 with 1 Axes>"
            ]
          },
          "metadata": {}
        }
      ]
    },
    {
      "cell_type": "markdown",
      "metadata": {
        "id": "ekzx-F2t0txt"
      },
      "source": [
        "3. Identifying and treating outliers using Z-score"
      ]
    },
    {
      "cell_type": "markdown",
      "metadata": {
        "id": "KGQp8K2P3B_F"
      },
      "source": [
        "For column Dexa_Freq_During_Rx"
      ]
    },
    {
      "cell_type": "code",
      "metadata": {
        "id": "XCv-saTa0z7E"
      },
      "source": [
        "df1=df.copy() #getting a copy of dataset"
      ],
      "execution_count": 23,
      "outputs": []
    },
    {
      "cell_type": "code",
      "metadata": {
        "id": "sr-WnwqB1C4t"
      },
      "source": [
        "#finding the boundary values for Dexa_freq_during_rx\n",
        "high=df1['Dexa_Freq_During_Rx'].mean() + 3*df1['Dexa_Freq_During_Rx'].std()\n",
        "low=df1['Dexa_Freq_During_Rx'].mean() - 3*df1['Dexa_Freq_During_Rx'].std()"
      ],
      "execution_count": 24,
      "outputs": []
    },
    {
      "cell_type": "code",
      "metadata": {
        "colab": {
          "base_uri": "https://localhost:8080/"
        },
        "id": "1aT77uc41H5z",
        "outputId": "80afa217-4058-41a6-ecab-be12314f8beb"
      },
      "source": [
        "print(\"Highest allowed\",high)\n",
        "print(\"Lowest allowed\",low)"
      ],
      "execution_count": 25,
      "outputs": [
        {
          "output_type": "stream",
          "name": "stdout",
          "text": [
            "Highest allowed 27.425698069039147\n",
            "Lowest allowed -21.393571900814845\n"
          ]
        }
      ]
    },
    {
      "cell_type": "code",
      "metadata": {
        "colab": {
          "base_uri": "https://localhost:8080/",
          "height": 312
        },
        "id": "VQfKzp5Q1OBW",
        "outputId": "483de953-459d-48b0-9f71-3b3337765356"
      },
      "source": [
        "#finding outliers\n",
        "newdf=df1[(df1['Dexa_Freq_During_Rx'] > high) | (df1['Dexa_Freq_During_Rx'] < low)]\n",
        "newdf.head()"
      ],
      "execution_count": 26,
      "outputs": [
        {
          "output_type": "execute_result",
          "data": {
            "text/html": [
              "<div>\n",
              "<style scoped>\n",
              "    .dataframe tbody tr th:only-of-type {\n",
              "        vertical-align: middle;\n",
              "    }\n",
              "\n",
              "    .dataframe tbody tr th {\n",
              "        vertical-align: top;\n",
              "    }\n",
              "\n",
              "    .dataframe thead th {\n",
              "        text-align: right;\n",
              "    }\n",
              "</style>\n",
              "<table border=\"1\" class=\"dataframe\">\n",
              "  <thead>\n",
              "    <tr style=\"text-align: right;\">\n",
              "      <th></th>\n",
              "      <th>Ptid</th>\n",
              "      <th>Persistency_Flag</th>\n",
              "      <th>Gender</th>\n",
              "      <th>Race</th>\n",
              "      <th>Ethnicity</th>\n",
              "      <th>Region</th>\n",
              "      <th>Age_Bucket</th>\n",
              "      <th>Ntm_Speciality</th>\n",
              "      <th>Ntm_Specialist_Flag</th>\n",
              "      <th>Ntm_Speciality_Bucket</th>\n",
              "      <th>Gluco_Record_Prior_Ntm</th>\n",
              "      <th>Gluco_Record_During_Rx</th>\n",
              "      <th>Dexa_Freq_During_Rx</th>\n",
              "      <th>Dexa_During_Rx</th>\n",
              "      <th>Frag_Frac_Prior_Ntm</th>\n",
              "      <th>Frag_Frac_During_Rx</th>\n",
              "      <th>Risk_Segment_Prior_Ntm</th>\n",
              "      <th>Tscore_Bucket_Prior_Ntm</th>\n",
              "      <th>Risk_Segment_During_Rx</th>\n",
              "      <th>Tscore_Bucket_During_Rx</th>\n",
              "      <th>Change_T_Score</th>\n",
              "      <th>Change_Risk_Segment</th>\n",
              "      <th>Adherent_Flag</th>\n",
              "      <th>Idn_Indicator</th>\n",
              "      <th>Injectable_Experience_During_Rx</th>\n",
              "      <th>Comorb_Encounter_For_Screening_For_Malignant_Neoplasms</th>\n",
              "      <th>Comorb_Encounter_For_Immunization</th>\n",
              "      <th>Comorb_Encntr_For_General_Exam_W_O_Complaint,_Susp_Or_Reprtd_Dx</th>\n",
              "      <th>Comorb_Vitamin_D_Deficiency</th>\n",
              "      <th>Comorb_Other_Joint_Disorder_Not_Elsewhere_Classified</th>\n",
              "      <th>Comorb_Encntr_For_Oth_Sp_Exam_W_O_Complaint_Suspected_Or_Reprtd_Dx</th>\n",
              "      <th>Comorb_Long_Term_Current_Drug_Therapy</th>\n",
              "      <th>Comorb_Dorsalgia</th>\n",
              "      <th>Comorb_Personal_History_Of_Other_Diseases_And_Conditions</th>\n",
              "      <th>Comorb_Other_Disorders_Of_Bone_Density_And_Structure</th>\n",
              "      <th>Comorb_Disorders_of_lipoprotein_metabolism_and_other_lipidemias</th>\n",
              "      <th>Comorb_Osteoporosis_without_current_pathological_fracture</th>\n",
              "      <th>Comorb_Personal_history_of_malignant_neoplasm</th>\n",
              "      <th>Comorb_Gastro_esophageal_reflux_disease</th>\n",
              "      <th>Concom_Cholesterol_And_Triglyceride_Regulating_Preparations</th>\n",
              "      <th>Concom_Narcotics</th>\n",
              "      <th>Concom_Systemic_Corticosteroids_Plain</th>\n",
              "      <th>Concom_Anti_Depressants_And_Mood_Stabilisers</th>\n",
              "      <th>Concom_Fluoroquinolones</th>\n",
              "      <th>Concom_Cephalosporins</th>\n",
              "      <th>Concom_Macrolides_And_Similar_Types</th>\n",
              "      <th>Concom_Broad_Spectrum_Penicillins</th>\n",
              "      <th>Concom_Anaesthetics_General</th>\n",
              "      <th>Concom_Viral_Vaccines</th>\n",
              "      <th>Risk_Type_1_Insulin_Dependent_Diabetes</th>\n",
              "      <th>Risk_Osteogenesis_Imperfecta</th>\n",
              "      <th>Risk_Rheumatoid_Arthritis</th>\n",
              "      <th>Risk_Untreated_Chronic_Hyperthyroidism</th>\n",
              "      <th>Risk_Untreated_Chronic_Hypogonadism</th>\n",
              "      <th>Risk_Untreated_Early_Menopause</th>\n",
              "      <th>Risk_Patient_Parent_Fractured_Their_Hip</th>\n",
              "      <th>Risk_Smoking_Tobacco</th>\n",
              "      <th>Risk_Chronic_Malnutrition_Or_Malabsorption</th>\n",
              "      <th>Risk_Chronic_Liver_Disease</th>\n",
              "      <th>Risk_Family_History_Of_Osteoporosis</th>\n",
              "      <th>Risk_Low_Calcium_Intake</th>\n",
              "      <th>Risk_Vitamin_D_Insufficiency</th>\n",
              "      <th>Risk_Poor_Health_Frailty</th>\n",
              "      <th>Risk_Excessive_Thinness</th>\n",
              "      <th>Risk_Hysterectomy_Oophorectomy</th>\n",
              "      <th>Risk_Estrogen_Deficiency</th>\n",
              "      <th>Risk_Immobilization</th>\n",
              "      <th>Risk_Recurring_Falls</th>\n",
              "      <th>Count_Of_Risks</th>\n",
              "    </tr>\n",
              "  </thead>\n",
              "  <tbody>\n",
              "    <tr>\n",
              "      <th>198</th>\n",
              "      <td>P199</td>\n",
              "      <td>Persistent</td>\n",
              "      <td>Female</td>\n",
              "      <td>Caucasian</td>\n",
              "      <td>Not Hispanic</td>\n",
              "      <td>South</td>\n",
              "      <td>&gt;75</td>\n",
              "      <td>ENDOCRINOLOGY</td>\n",
              "      <td>Specialist</td>\n",
              "      <td>Endo/Onc/Uro</td>\n",
              "      <td>N</td>\n",
              "      <td>Y</td>\n",
              "      <td>28</td>\n",
              "      <td>Y</td>\n",
              "      <td>N</td>\n",
              "      <td>Y</td>\n",
              "      <td>VLR_LR</td>\n",
              "      <td>&gt;-2.5</td>\n",
              "      <td>HR_VHR</td>\n",
              "      <td>&lt;=-2.5</td>\n",
              "      <td>Worsened</td>\n",
              "      <td>Worsened</td>\n",
              "      <td>Adherent</td>\n",
              "      <td>Y</td>\n",
              "      <td>Y</td>\n",
              "      <td>N</td>\n",
              "      <td>Y</td>\n",
              "      <td>Y</td>\n",
              "      <td>N</td>\n",
              "      <td>Y</td>\n",
              "      <td>N</td>\n",
              "      <td>Y</td>\n",
              "      <td>Y</td>\n",
              "      <td>Y</td>\n",
              "      <td>N</td>\n",
              "      <td>Y</td>\n",
              "      <td>N</td>\n",
              "      <td>N</td>\n",
              "      <td>Y</td>\n",
              "      <td>N</td>\n",
              "      <td>Y</td>\n",
              "      <td>Y</td>\n",
              "      <td>N</td>\n",
              "      <td>Y</td>\n",
              "      <td>Y</td>\n",
              "      <td>Y</td>\n",
              "      <td>Y</td>\n",
              "      <td>N</td>\n",
              "      <td>N</td>\n",
              "      <td>N</td>\n",
              "      <td>N</td>\n",
              "      <td>N</td>\n",
              "      <td>N</td>\n",
              "      <td>N</td>\n",
              "      <td>N</td>\n",
              "      <td>N</td>\n",
              "      <td>N</td>\n",
              "      <td>Y</td>\n",
              "      <td>N</td>\n",
              "      <td>Y</td>\n",
              "      <td>N</td>\n",
              "      <td>Y</td>\n",
              "      <td>N</td>\n",
              "      <td>N</td>\n",
              "      <td>N</td>\n",
              "      <td>N</td>\n",
              "      <td>N</td>\n",
              "      <td>N</td>\n",
              "      <td>3</td>\n",
              "    </tr>\n",
              "    <tr>\n",
              "      <th>241</th>\n",
              "      <td>P242</td>\n",
              "      <td>Persistent</td>\n",
              "      <td>Female</td>\n",
              "      <td>Caucasian</td>\n",
              "      <td>Not Hispanic</td>\n",
              "      <td>Midwest</td>\n",
              "      <td>&gt;75</td>\n",
              "      <td>GENERAL PRACTITIONER</td>\n",
              "      <td>Others</td>\n",
              "      <td>OB/GYN/Others/PCP/Unknown</td>\n",
              "      <td>N</td>\n",
              "      <td>Y</td>\n",
              "      <td>37</td>\n",
              "      <td>Y</td>\n",
              "      <td>N</td>\n",
              "      <td>N</td>\n",
              "      <td>VLR_LR</td>\n",
              "      <td>&gt;-2.5</td>\n",
              "      <td>Unknown</td>\n",
              "      <td>Unknown</td>\n",
              "      <td>Unknown</td>\n",
              "      <td>Unknown</td>\n",
              "      <td>Adherent</td>\n",
              "      <td>Y</td>\n",
              "      <td>Y</td>\n",
              "      <td>N</td>\n",
              "      <td>Y</td>\n",
              "      <td>Y</td>\n",
              "      <td>Y</td>\n",
              "      <td>Y</td>\n",
              "      <td>Y</td>\n",
              "      <td>Y</td>\n",
              "      <td>Y</td>\n",
              "      <td>N</td>\n",
              "      <td>Y</td>\n",
              "      <td>Y</td>\n",
              "      <td>N</td>\n",
              "      <td>Y</td>\n",
              "      <td>N</td>\n",
              "      <td>N</td>\n",
              "      <td>N</td>\n",
              "      <td>Y</td>\n",
              "      <td>Y</td>\n",
              "      <td>Y</td>\n",
              "      <td>N</td>\n",
              "      <td>Y</td>\n",
              "      <td>Y</td>\n",
              "      <td>N</td>\n",
              "      <td>N</td>\n",
              "      <td>N</td>\n",
              "      <td>N</td>\n",
              "      <td>N</td>\n",
              "      <td>N</td>\n",
              "      <td>N</td>\n",
              "      <td>N</td>\n",
              "      <td>N</td>\n",
              "      <td>N</td>\n",
              "      <td>N</td>\n",
              "      <td>N</td>\n",
              "      <td>N</td>\n",
              "      <td>N</td>\n",
              "      <td>Y</td>\n",
              "      <td>N</td>\n",
              "      <td>N</td>\n",
              "      <td>N</td>\n",
              "      <td>N</td>\n",
              "      <td>N</td>\n",
              "      <td>N</td>\n",
              "      <td>1</td>\n",
              "    </tr>\n",
              "    <tr>\n",
              "      <th>541</th>\n",
              "      <td>P542</td>\n",
              "      <td>Persistent</td>\n",
              "      <td>Female</td>\n",
              "      <td>Caucasian</td>\n",
              "      <td>Not Hispanic</td>\n",
              "      <td>Midwest</td>\n",
              "      <td>65-75</td>\n",
              "      <td>GENERAL PRACTITIONER</td>\n",
              "      <td>Others</td>\n",
              "      <td>OB/GYN/Others/PCP/Unknown</td>\n",
              "      <td>N</td>\n",
              "      <td>N</td>\n",
              "      <td>81</td>\n",
              "      <td>Y</td>\n",
              "      <td>Y</td>\n",
              "      <td>N</td>\n",
              "      <td>VLR_LR</td>\n",
              "      <td>&gt;-2.5</td>\n",
              "      <td>HR_VHR</td>\n",
              "      <td>&lt;=-2.5</td>\n",
              "      <td>Worsened</td>\n",
              "      <td>Unknown</td>\n",
              "      <td>Adherent</td>\n",
              "      <td>Y</td>\n",
              "      <td>Y</td>\n",
              "      <td>Y</td>\n",
              "      <td>Y</td>\n",
              "      <td>Y</td>\n",
              "      <td>N</td>\n",
              "      <td>N</td>\n",
              "      <td>Y</td>\n",
              "      <td>N</td>\n",
              "      <td>N</td>\n",
              "      <td>N</td>\n",
              "      <td>N</td>\n",
              "      <td>Y</td>\n",
              "      <td>N</td>\n",
              "      <td>Y</td>\n",
              "      <td>N</td>\n",
              "      <td>Y</td>\n",
              "      <td>N</td>\n",
              "      <td>N</td>\n",
              "      <td>N</td>\n",
              "      <td>N</td>\n",
              "      <td>N</td>\n",
              "      <td>N</td>\n",
              "      <td>N</td>\n",
              "      <td>Y</td>\n",
              "      <td>N</td>\n",
              "      <td>N</td>\n",
              "      <td>N</td>\n",
              "      <td>N</td>\n",
              "      <td>N</td>\n",
              "      <td>N</td>\n",
              "      <td>N</td>\n",
              "      <td>N</td>\n",
              "      <td>N</td>\n",
              "      <td>N</td>\n",
              "      <td>N</td>\n",
              "      <td>N</td>\n",
              "      <td>N</td>\n",
              "      <td>N</td>\n",
              "      <td>N</td>\n",
              "      <td>N</td>\n",
              "      <td>N</td>\n",
              "      <td>N</td>\n",
              "      <td>N</td>\n",
              "      <td>N</td>\n",
              "      <td>0</td>\n",
              "    </tr>\n",
              "    <tr>\n",
              "      <th>651</th>\n",
              "      <td>P652</td>\n",
              "      <td>Persistent</td>\n",
              "      <td>Female</td>\n",
              "      <td>Caucasian</td>\n",
              "      <td>Not Hispanic</td>\n",
              "      <td>Midwest</td>\n",
              "      <td>65-75</td>\n",
              "      <td>PEDIATRICS</td>\n",
              "      <td>Others</td>\n",
              "      <td>OB/GYN/Others/PCP/Unknown</td>\n",
              "      <td>Y</td>\n",
              "      <td>Y</td>\n",
              "      <td>42</td>\n",
              "      <td>Y</td>\n",
              "      <td>N</td>\n",
              "      <td>N</td>\n",
              "      <td>HR_VHR</td>\n",
              "      <td>&lt;=-2.5</td>\n",
              "      <td>HR_VHR</td>\n",
              "      <td>&lt;=-2.5</td>\n",
              "      <td>No change</td>\n",
              "      <td>No change</td>\n",
              "      <td>Adherent</td>\n",
              "      <td>Y</td>\n",
              "      <td>Y</td>\n",
              "      <td>Y</td>\n",
              "      <td>Y</td>\n",
              "      <td>N</td>\n",
              "      <td>Y</td>\n",
              "      <td>N</td>\n",
              "      <td>N</td>\n",
              "      <td>N</td>\n",
              "      <td>N</td>\n",
              "      <td>N</td>\n",
              "      <td>N</td>\n",
              "      <td>Y</td>\n",
              "      <td>N</td>\n",
              "      <td>N</td>\n",
              "      <td>N</td>\n",
              "      <td>Y</td>\n",
              "      <td>N</td>\n",
              "      <td>Y</td>\n",
              "      <td>N</td>\n",
              "      <td>N</td>\n",
              "      <td>Y</td>\n",
              "      <td>Y</td>\n",
              "      <td>Y</td>\n",
              "      <td>N</td>\n",
              "      <td>Y</td>\n",
              "      <td>N</td>\n",
              "      <td>N</td>\n",
              "      <td>N</td>\n",
              "      <td>N</td>\n",
              "      <td>N</td>\n",
              "      <td>N</td>\n",
              "      <td>N</td>\n",
              "      <td>Y</td>\n",
              "      <td>Y</td>\n",
              "      <td>N</td>\n",
              "      <td>N</td>\n",
              "      <td>N</td>\n",
              "      <td>Y</td>\n",
              "      <td>N</td>\n",
              "      <td>N</td>\n",
              "      <td>N</td>\n",
              "      <td>N</td>\n",
              "      <td>N</td>\n",
              "      <td>N</td>\n",
              "      <td>3</td>\n",
              "    </tr>\n",
              "    <tr>\n",
              "      <th>1265</th>\n",
              "      <td>P1266</td>\n",
              "      <td>Persistent</td>\n",
              "      <td>Female</td>\n",
              "      <td>Caucasian</td>\n",
              "      <td>Not Hispanic</td>\n",
              "      <td>West</td>\n",
              "      <td>&gt;75</td>\n",
              "      <td>ENDOCRINOLOGY</td>\n",
              "      <td>Specialist</td>\n",
              "      <td>Endo/Onc/Uro</td>\n",
              "      <td>N</td>\n",
              "      <td>N</td>\n",
              "      <td>28</td>\n",
              "      <td>Y</td>\n",
              "      <td>N</td>\n",
              "      <td>N</td>\n",
              "      <td>HR_VHR</td>\n",
              "      <td>&lt;=-2.5</td>\n",
              "      <td>HR_VHR</td>\n",
              "      <td>&lt;=-2.5</td>\n",
              "      <td>Improved</td>\n",
              "      <td>No change</td>\n",
              "      <td>Adherent</td>\n",
              "      <td>Y</td>\n",
              "      <td>Y</td>\n",
              "      <td>Y</td>\n",
              "      <td>Y</td>\n",
              "      <td>Y</td>\n",
              "      <td>Y</td>\n",
              "      <td>N</td>\n",
              "      <td>N</td>\n",
              "      <td>Y</td>\n",
              "      <td>N</td>\n",
              "      <td>N</td>\n",
              "      <td>N</td>\n",
              "      <td>N</td>\n",
              "      <td>N</td>\n",
              "      <td>Y</td>\n",
              "      <td>Y</td>\n",
              "      <td>Y</td>\n",
              "      <td>Y</td>\n",
              "      <td>N</td>\n",
              "      <td>Y</td>\n",
              "      <td>Y</td>\n",
              "      <td>N</td>\n",
              "      <td>N</td>\n",
              "      <td>N</td>\n",
              "      <td>N</td>\n",
              "      <td>Y</td>\n",
              "      <td>N</td>\n",
              "      <td>N</td>\n",
              "      <td>N</td>\n",
              "      <td>N</td>\n",
              "      <td>N</td>\n",
              "      <td>N</td>\n",
              "      <td>N</td>\n",
              "      <td>N</td>\n",
              "      <td>N</td>\n",
              "      <td>N</td>\n",
              "      <td>N</td>\n",
              "      <td>N</td>\n",
              "      <td>Y</td>\n",
              "      <td>N</td>\n",
              "      <td>N</td>\n",
              "      <td>N</td>\n",
              "      <td>N</td>\n",
              "      <td>N</td>\n",
              "      <td>N</td>\n",
              "      <td>1</td>\n",
              "    </tr>\n",
              "  </tbody>\n",
              "</table>\n",
              "</div>"
            ],
            "text/plain": [
              "       Ptid Persistency_Flag  ... Risk_Recurring_Falls Count_Of_Risks\n",
              "198    P199       Persistent  ...                    N              3\n",
              "241    P242       Persistent  ...                    N              1\n",
              "541    P542       Persistent  ...                    N              0\n",
              "651    P652       Persistent  ...                    N              3\n",
              "1265  P1266       Persistent  ...                    N              1\n",
              "\n",
              "[5 rows x 69 columns]"
            ]
          },
          "metadata": {},
          "execution_count": 26
        }
      ]
    },
    {
      "cell_type": "code",
      "metadata": {
        "id": "L5kjUvSu2dS5"
      },
      "source": [
        "#treating outliers\n",
        "#Applying the capping on outliers\n",
        "df1['Dexa_Freq_During_Rx'] = np.where(\n",
        "    df1['Dexa_Freq_During_Rx']> high,\n",
        "    high,\n",
        "    np.where(\n",
        "        df1['Dexa_Freq_During_Rx']<low,\n",
        "        low,\n",
        "        df1['Dexa_Freq_During_Rx']\n",
        "    )\n",
        ")"
      ],
      "execution_count": 27,
      "outputs": []
    },
    {
      "cell_type": "code",
      "metadata": {
        "colab": {
          "base_uri": "https://localhost:8080/",
          "height": 69
        },
        "id": "es-PUs9U2tiW",
        "outputId": "c72852b8-0ed0-4ca0-abeb-1b137f545cef"
      },
      "source": [
        "#checking outliers after capping\n",
        "newdf=df1[(df1['Dexa_Freq_During_Rx'] > high) | (df1['Dexa_Freq_During_Rx'] < low)]\n",
        "newdf.head()"
      ],
      "execution_count": 28,
      "outputs": [
        {
          "output_type": "execute_result",
          "data": {
            "text/html": [
              "<div>\n",
              "<style scoped>\n",
              "    .dataframe tbody tr th:only-of-type {\n",
              "        vertical-align: middle;\n",
              "    }\n",
              "\n",
              "    .dataframe tbody tr th {\n",
              "        vertical-align: top;\n",
              "    }\n",
              "\n",
              "    .dataframe thead th {\n",
              "        text-align: right;\n",
              "    }\n",
              "</style>\n",
              "<table border=\"1\" class=\"dataframe\">\n",
              "  <thead>\n",
              "    <tr style=\"text-align: right;\">\n",
              "      <th></th>\n",
              "      <th>Ptid</th>\n",
              "      <th>Persistency_Flag</th>\n",
              "      <th>Gender</th>\n",
              "      <th>Race</th>\n",
              "      <th>Ethnicity</th>\n",
              "      <th>Region</th>\n",
              "      <th>Age_Bucket</th>\n",
              "      <th>Ntm_Speciality</th>\n",
              "      <th>Ntm_Specialist_Flag</th>\n",
              "      <th>Ntm_Speciality_Bucket</th>\n",
              "      <th>Gluco_Record_Prior_Ntm</th>\n",
              "      <th>Gluco_Record_During_Rx</th>\n",
              "      <th>Dexa_Freq_During_Rx</th>\n",
              "      <th>Dexa_During_Rx</th>\n",
              "      <th>Frag_Frac_Prior_Ntm</th>\n",
              "      <th>Frag_Frac_During_Rx</th>\n",
              "      <th>Risk_Segment_Prior_Ntm</th>\n",
              "      <th>Tscore_Bucket_Prior_Ntm</th>\n",
              "      <th>Risk_Segment_During_Rx</th>\n",
              "      <th>Tscore_Bucket_During_Rx</th>\n",
              "      <th>Change_T_Score</th>\n",
              "      <th>Change_Risk_Segment</th>\n",
              "      <th>Adherent_Flag</th>\n",
              "      <th>Idn_Indicator</th>\n",
              "      <th>Injectable_Experience_During_Rx</th>\n",
              "      <th>Comorb_Encounter_For_Screening_For_Malignant_Neoplasms</th>\n",
              "      <th>Comorb_Encounter_For_Immunization</th>\n",
              "      <th>Comorb_Encntr_For_General_Exam_W_O_Complaint,_Susp_Or_Reprtd_Dx</th>\n",
              "      <th>Comorb_Vitamin_D_Deficiency</th>\n",
              "      <th>Comorb_Other_Joint_Disorder_Not_Elsewhere_Classified</th>\n",
              "      <th>Comorb_Encntr_For_Oth_Sp_Exam_W_O_Complaint_Suspected_Or_Reprtd_Dx</th>\n",
              "      <th>Comorb_Long_Term_Current_Drug_Therapy</th>\n",
              "      <th>Comorb_Dorsalgia</th>\n",
              "      <th>Comorb_Personal_History_Of_Other_Diseases_And_Conditions</th>\n",
              "      <th>Comorb_Other_Disorders_Of_Bone_Density_And_Structure</th>\n",
              "      <th>Comorb_Disorders_of_lipoprotein_metabolism_and_other_lipidemias</th>\n",
              "      <th>Comorb_Osteoporosis_without_current_pathological_fracture</th>\n",
              "      <th>Comorb_Personal_history_of_malignant_neoplasm</th>\n",
              "      <th>Comorb_Gastro_esophageal_reflux_disease</th>\n",
              "      <th>Concom_Cholesterol_And_Triglyceride_Regulating_Preparations</th>\n",
              "      <th>Concom_Narcotics</th>\n",
              "      <th>Concom_Systemic_Corticosteroids_Plain</th>\n",
              "      <th>Concom_Anti_Depressants_And_Mood_Stabilisers</th>\n",
              "      <th>Concom_Fluoroquinolones</th>\n",
              "      <th>Concom_Cephalosporins</th>\n",
              "      <th>Concom_Macrolides_And_Similar_Types</th>\n",
              "      <th>Concom_Broad_Spectrum_Penicillins</th>\n",
              "      <th>Concom_Anaesthetics_General</th>\n",
              "      <th>Concom_Viral_Vaccines</th>\n",
              "      <th>Risk_Type_1_Insulin_Dependent_Diabetes</th>\n",
              "      <th>Risk_Osteogenesis_Imperfecta</th>\n",
              "      <th>Risk_Rheumatoid_Arthritis</th>\n",
              "      <th>Risk_Untreated_Chronic_Hyperthyroidism</th>\n",
              "      <th>Risk_Untreated_Chronic_Hypogonadism</th>\n",
              "      <th>Risk_Untreated_Early_Menopause</th>\n",
              "      <th>Risk_Patient_Parent_Fractured_Their_Hip</th>\n",
              "      <th>Risk_Smoking_Tobacco</th>\n",
              "      <th>Risk_Chronic_Malnutrition_Or_Malabsorption</th>\n",
              "      <th>Risk_Chronic_Liver_Disease</th>\n",
              "      <th>Risk_Family_History_Of_Osteoporosis</th>\n",
              "      <th>Risk_Low_Calcium_Intake</th>\n",
              "      <th>Risk_Vitamin_D_Insufficiency</th>\n",
              "      <th>Risk_Poor_Health_Frailty</th>\n",
              "      <th>Risk_Excessive_Thinness</th>\n",
              "      <th>Risk_Hysterectomy_Oophorectomy</th>\n",
              "      <th>Risk_Estrogen_Deficiency</th>\n",
              "      <th>Risk_Immobilization</th>\n",
              "      <th>Risk_Recurring_Falls</th>\n",
              "      <th>Count_Of_Risks</th>\n",
              "    </tr>\n",
              "  </thead>\n",
              "  <tbody>\n",
              "  </tbody>\n",
              "</table>\n",
              "</div>"
            ],
            "text/plain": [
              "Empty DataFrame\n",
              "Columns: [Ptid, Persistency_Flag, Gender, Race, Ethnicity, Region, Age_Bucket, Ntm_Speciality, Ntm_Specialist_Flag, Ntm_Speciality_Bucket, Gluco_Record_Prior_Ntm, Gluco_Record_During_Rx, Dexa_Freq_During_Rx, Dexa_During_Rx, Frag_Frac_Prior_Ntm, Frag_Frac_During_Rx, Risk_Segment_Prior_Ntm, Tscore_Bucket_Prior_Ntm, Risk_Segment_During_Rx, Tscore_Bucket_During_Rx, Change_T_Score, Change_Risk_Segment, Adherent_Flag, Idn_Indicator, Injectable_Experience_During_Rx, Comorb_Encounter_For_Screening_For_Malignant_Neoplasms, Comorb_Encounter_For_Immunization, Comorb_Encntr_For_General_Exam_W_O_Complaint,_Susp_Or_Reprtd_Dx, Comorb_Vitamin_D_Deficiency, Comorb_Other_Joint_Disorder_Not_Elsewhere_Classified, Comorb_Encntr_For_Oth_Sp_Exam_W_O_Complaint_Suspected_Or_Reprtd_Dx, Comorb_Long_Term_Current_Drug_Therapy, Comorb_Dorsalgia, Comorb_Personal_History_Of_Other_Diseases_And_Conditions, Comorb_Other_Disorders_Of_Bone_Density_And_Structure, Comorb_Disorders_of_lipoprotein_metabolism_and_other_lipidemias, Comorb_Osteoporosis_without_current_pathological_fracture, Comorb_Personal_history_of_malignant_neoplasm, Comorb_Gastro_esophageal_reflux_disease, Concom_Cholesterol_And_Triglyceride_Regulating_Preparations, Concom_Narcotics, Concom_Systemic_Corticosteroids_Plain, Concom_Anti_Depressants_And_Mood_Stabilisers, Concom_Fluoroquinolones, Concom_Cephalosporins, Concom_Macrolides_And_Similar_Types, Concom_Broad_Spectrum_Penicillins, Concom_Anaesthetics_General, Concom_Viral_Vaccines, Risk_Type_1_Insulin_Dependent_Diabetes, Risk_Osteogenesis_Imperfecta, Risk_Rheumatoid_Arthritis, Risk_Untreated_Chronic_Hyperthyroidism, Risk_Untreated_Chronic_Hypogonadism, Risk_Untreated_Early_Menopause, Risk_Patient_Parent_Fractured_Their_Hip, Risk_Smoking_Tobacco, Risk_Chronic_Malnutrition_Or_Malabsorption, Risk_Chronic_Liver_Disease, Risk_Family_History_Of_Osteoporosis, Risk_Low_Calcium_Intake, Risk_Vitamin_D_Insufficiency, Risk_Poor_Health_Frailty, Risk_Excessive_Thinness, Risk_Hysterectomy_Oophorectomy, Risk_Estrogen_Deficiency, Risk_Immobilization, Risk_Recurring_Falls, Count_Of_Risks]\n",
              "Index: []"
            ]
          },
          "metadata": {},
          "execution_count": 28
        }
      ]
    },
    {
      "cell_type": "markdown",
      "metadata": {
        "id": "mlGQE1J83MLU"
      },
      "source": [
        "For column Count_Of_Risk"
      ]
    },
    {
      "cell_type": "code",
      "metadata": {
        "id": "2kDLKpIL3Tpk"
      },
      "source": [
        "df1=df.copy() #getting a copy of dataset"
      ],
      "execution_count": 29,
      "outputs": []
    },
    {
      "cell_type": "code",
      "metadata": {
        "id": "R0OBZuKU3Y0I"
      },
      "source": [
        "#finding the boundary values \n",
        "high=df1['Count_Of_Risks'].mean() + 3*df1['Count_Of_Risks'].std()\n",
        "low=df1['Count_Of_Risks'].mean() - 3*df1['Count_Of_Risks'].std()"
      ],
      "execution_count": 30,
      "outputs": []
    },
    {
      "cell_type": "code",
      "metadata": {
        "colab": {
          "base_uri": "https://localhost:8080/"
        },
        "id": "KEVKDV9v3pd7",
        "outputId": "2d419f0e-172f-4c65-a803-1c63722f7bc5"
      },
      "source": [
        "print(\"Highest allowed\",high)\n",
        "print(\"Lowest allowed\",low)"
      ],
      "execution_count": 31,
      "outputs": [
        {
          "output_type": "stream",
          "name": "stdout",
          "text": [
            "Highest allowed 4.52422941524692\n",
            "Lowest allowed -2.0452574526300977\n"
          ]
        }
      ]
    },
    {
      "cell_type": "code",
      "metadata": {
        "colab": {
          "base_uri": "https://localhost:8080/",
          "height": 312
        },
        "id": "wwEtE78q3tlD",
        "outputId": "bbb7b360-d515-4447-f709-79287bd5e1ab"
      },
      "source": [
        "#finding outliers\n",
        "newdf=df1[(df1['Count_Of_Risks'] > high) | (df1['Count_Of_Risks'] < low)]\n",
        "newdf.head()"
      ],
      "execution_count": 32,
      "outputs": [
        {
          "output_type": "execute_result",
          "data": {
            "text/html": [
              "<div>\n",
              "<style scoped>\n",
              "    .dataframe tbody tr th:only-of-type {\n",
              "        vertical-align: middle;\n",
              "    }\n",
              "\n",
              "    .dataframe tbody tr th {\n",
              "        vertical-align: top;\n",
              "    }\n",
              "\n",
              "    .dataframe thead th {\n",
              "        text-align: right;\n",
              "    }\n",
              "</style>\n",
              "<table border=\"1\" class=\"dataframe\">\n",
              "  <thead>\n",
              "    <tr style=\"text-align: right;\">\n",
              "      <th></th>\n",
              "      <th>Ptid</th>\n",
              "      <th>Persistency_Flag</th>\n",
              "      <th>Gender</th>\n",
              "      <th>Race</th>\n",
              "      <th>Ethnicity</th>\n",
              "      <th>Region</th>\n",
              "      <th>Age_Bucket</th>\n",
              "      <th>Ntm_Speciality</th>\n",
              "      <th>Ntm_Specialist_Flag</th>\n",
              "      <th>Ntm_Speciality_Bucket</th>\n",
              "      <th>Gluco_Record_Prior_Ntm</th>\n",
              "      <th>Gluco_Record_During_Rx</th>\n",
              "      <th>Dexa_Freq_During_Rx</th>\n",
              "      <th>Dexa_During_Rx</th>\n",
              "      <th>Frag_Frac_Prior_Ntm</th>\n",
              "      <th>Frag_Frac_During_Rx</th>\n",
              "      <th>Risk_Segment_Prior_Ntm</th>\n",
              "      <th>Tscore_Bucket_Prior_Ntm</th>\n",
              "      <th>Risk_Segment_During_Rx</th>\n",
              "      <th>Tscore_Bucket_During_Rx</th>\n",
              "      <th>Change_T_Score</th>\n",
              "      <th>Change_Risk_Segment</th>\n",
              "      <th>Adherent_Flag</th>\n",
              "      <th>Idn_Indicator</th>\n",
              "      <th>Injectable_Experience_During_Rx</th>\n",
              "      <th>Comorb_Encounter_For_Screening_For_Malignant_Neoplasms</th>\n",
              "      <th>Comorb_Encounter_For_Immunization</th>\n",
              "      <th>Comorb_Encntr_For_General_Exam_W_O_Complaint,_Susp_Or_Reprtd_Dx</th>\n",
              "      <th>Comorb_Vitamin_D_Deficiency</th>\n",
              "      <th>Comorb_Other_Joint_Disorder_Not_Elsewhere_Classified</th>\n",
              "      <th>Comorb_Encntr_For_Oth_Sp_Exam_W_O_Complaint_Suspected_Or_Reprtd_Dx</th>\n",
              "      <th>Comorb_Long_Term_Current_Drug_Therapy</th>\n",
              "      <th>Comorb_Dorsalgia</th>\n",
              "      <th>Comorb_Personal_History_Of_Other_Diseases_And_Conditions</th>\n",
              "      <th>Comorb_Other_Disorders_Of_Bone_Density_And_Structure</th>\n",
              "      <th>Comorb_Disorders_of_lipoprotein_metabolism_and_other_lipidemias</th>\n",
              "      <th>Comorb_Osteoporosis_without_current_pathological_fracture</th>\n",
              "      <th>Comorb_Personal_history_of_malignant_neoplasm</th>\n",
              "      <th>Comorb_Gastro_esophageal_reflux_disease</th>\n",
              "      <th>Concom_Cholesterol_And_Triglyceride_Regulating_Preparations</th>\n",
              "      <th>Concom_Narcotics</th>\n",
              "      <th>Concom_Systemic_Corticosteroids_Plain</th>\n",
              "      <th>Concom_Anti_Depressants_And_Mood_Stabilisers</th>\n",
              "      <th>Concom_Fluoroquinolones</th>\n",
              "      <th>Concom_Cephalosporins</th>\n",
              "      <th>Concom_Macrolides_And_Similar_Types</th>\n",
              "      <th>Concom_Broad_Spectrum_Penicillins</th>\n",
              "      <th>Concom_Anaesthetics_General</th>\n",
              "      <th>Concom_Viral_Vaccines</th>\n",
              "      <th>Risk_Type_1_Insulin_Dependent_Diabetes</th>\n",
              "      <th>Risk_Osteogenesis_Imperfecta</th>\n",
              "      <th>Risk_Rheumatoid_Arthritis</th>\n",
              "      <th>Risk_Untreated_Chronic_Hyperthyroidism</th>\n",
              "      <th>Risk_Untreated_Chronic_Hypogonadism</th>\n",
              "      <th>Risk_Untreated_Early_Menopause</th>\n",
              "      <th>Risk_Patient_Parent_Fractured_Their_Hip</th>\n",
              "      <th>Risk_Smoking_Tobacco</th>\n",
              "      <th>Risk_Chronic_Malnutrition_Or_Malabsorption</th>\n",
              "      <th>Risk_Chronic_Liver_Disease</th>\n",
              "      <th>Risk_Family_History_Of_Osteoporosis</th>\n",
              "      <th>Risk_Low_Calcium_Intake</th>\n",
              "      <th>Risk_Vitamin_D_Insufficiency</th>\n",
              "      <th>Risk_Poor_Health_Frailty</th>\n",
              "      <th>Risk_Excessive_Thinness</th>\n",
              "      <th>Risk_Hysterectomy_Oophorectomy</th>\n",
              "      <th>Risk_Estrogen_Deficiency</th>\n",
              "      <th>Risk_Immobilization</th>\n",
              "      <th>Risk_Recurring_Falls</th>\n",
              "      <th>Count_Of_Risks</th>\n",
              "    </tr>\n",
              "  </thead>\n",
              "  <tbody>\n",
              "    <tr>\n",
              "      <th>302</th>\n",
              "      <td>P303</td>\n",
              "      <td>Persistent</td>\n",
              "      <td>Female</td>\n",
              "      <td>Caucasian</td>\n",
              "      <td>Not Hispanic</td>\n",
              "      <td>South</td>\n",
              "      <td>&gt;75</td>\n",
              "      <td>Unknown</td>\n",
              "      <td>Others</td>\n",
              "      <td>OB/GYN/Others/PCP/Unknown</td>\n",
              "      <td>Y</td>\n",
              "      <td>N</td>\n",
              "      <td>0</td>\n",
              "      <td>N</td>\n",
              "      <td>N</td>\n",
              "      <td>N</td>\n",
              "      <td>VLR_LR</td>\n",
              "      <td>&gt;-2.5</td>\n",
              "      <td>VLR_LR</td>\n",
              "      <td>&gt;-2.5</td>\n",
              "      <td>No change</td>\n",
              "      <td>Unknown</td>\n",
              "      <td>Adherent</td>\n",
              "      <td>Y</td>\n",
              "      <td>Y</td>\n",
              "      <td>Y</td>\n",
              "      <td>Y</td>\n",
              "      <td>Y</td>\n",
              "      <td>Y</td>\n",
              "      <td>Y</td>\n",
              "      <td>N</td>\n",
              "      <td>Y</td>\n",
              "      <td>N</td>\n",
              "      <td>Y</td>\n",
              "      <td>N</td>\n",
              "      <td>Y</td>\n",
              "      <td>N</td>\n",
              "      <td>N</td>\n",
              "      <td>N</td>\n",
              "      <td>Y</td>\n",
              "      <td>Y</td>\n",
              "      <td>N</td>\n",
              "      <td>N</td>\n",
              "      <td>Y</td>\n",
              "      <td>Y</td>\n",
              "      <td>N</td>\n",
              "      <td>Y</td>\n",
              "      <td>N</td>\n",
              "      <td>N</td>\n",
              "      <td>N</td>\n",
              "      <td>N</td>\n",
              "      <td>N</td>\n",
              "      <td>N</td>\n",
              "      <td>N</td>\n",
              "      <td>N</td>\n",
              "      <td>Y</td>\n",
              "      <td>Y</td>\n",
              "      <td>Y</td>\n",
              "      <td>N</td>\n",
              "      <td>Y</td>\n",
              "      <td>N</td>\n",
              "      <td>Y</td>\n",
              "      <td>N</td>\n",
              "      <td>N</td>\n",
              "      <td>N</td>\n",
              "      <td>N</td>\n",
              "      <td>N</td>\n",
              "      <td>N</td>\n",
              "      <td>5</td>\n",
              "    </tr>\n",
              "    <tr>\n",
              "      <th>342</th>\n",
              "      <td>P343</td>\n",
              "      <td>Persistent</td>\n",
              "      <td>Female</td>\n",
              "      <td>Caucasian</td>\n",
              "      <td>Not Hispanic</td>\n",
              "      <td>South</td>\n",
              "      <td>&gt;75</td>\n",
              "      <td>ENDOCRINOLOGY</td>\n",
              "      <td>Specialist</td>\n",
              "      <td>Endo/Onc/Uro</td>\n",
              "      <td>N</td>\n",
              "      <td>Y</td>\n",
              "      <td>0</td>\n",
              "      <td>N</td>\n",
              "      <td>Y</td>\n",
              "      <td>N</td>\n",
              "      <td>HR_VHR</td>\n",
              "      <td>&lt;=-2.5</td>\n",
              "      <td>HR_VHR</td>\n",
              "      <td>&gt;-2.5</td>\n",
              "      <td>No change</td>\n",
              "      <td>No change</td>\n",
              "      <td>Adherent</td>\n",
              "      <td>Y</td>\n",
              "      <td>Y</td>\n",
              "      <td>Y</td>\n",
              "      <td>Y</td>\n",
              "      <td>N</td>\n",
              "      <td>Y</td>\n",
              "      <td>Y</td>\n",
              "      <td>N</td>\n",
              "      <td>N</td>\n",
              "      <td>N</td>\n",
              "      <td>N</td>\n",
              "      <td>N</td>\n",
              "      <td>Y</td>\n",
              "      <td>N</td>\n",
              "      <td>N</td>\n",
              "      <td>N</td>\n",
              "      <td>Y</td>\n",
              "      <td>N</td>\n",
              "      <td>Y</td>\n",
              "      <td>N</td>\n",
              "      <td>Y</td>\n",
              "      <td>N</td>\n",
              "      <td>Y</td>\n",
              "      <td>N</td>\n",
              "      <td>N</td>\n",
              "      <td>N</td>\n",
              "      <td>N</td>\n",
              "      <td>N</td>\n",
              "      <td>N</td>\n",
              "      <td>N</td>\n",
              "      <td>Y</td>\n",
              "      <td>N</td>\n",
              "      <td>Y</td>\n",
              "      <td>Y</td>\n",
              "      <td>N</td>\n",
              "      <td>N</td>\n",
              "      <td>Y</td>\n",
              "      <td>N</td>\n",
              "      <td>Y</td>\n",
              "      <td>Y</td>\n",
              "      <td>N</td>\n",
              "      <td>N</td>\n",
              "      <td>N</td>\n",
              "      <td>N</td>\n",
              "      <td>N</td>\n",
              "      <td>6</td>\n",
              "    </tr>\n",
              "    <tr>\n",
              "      <th>352</th>\n",
              "      <td>P353</td>\n",
              "      <td>Persistent</td>\n",
              "      <td>Female</td>\n",
              "      <td>Caucasian</td>\n",
              "      <td>Not Hispanic</td>\n",
              "      <td>South</td>\n",
              "      <td>&gt;75</td>\n",
              "      <td>ENDOCRINOLOGY</td>\n",
              "      <td>Specialist</td>\n",
              "      <td>Endo/Onc/Uro</td>\n",
              "      <td>N</td>\n",
              "      <td>N</td>\n",
              "      <td>0</td>\n",
              "      <td>N</td>\n",
              "      <td>N</td>\n",
              "      <td>N</td>\n",
              "      <td>VLR_LR</td>\n",
              "      <td>&gt;-2.5</td>\n",
              "      <td>VLR_LR</td>\n",
              "      <td>&gt;-2.5</td>\n",
              "      <td>No change</td>\n",
              "      <td>Unknown</td>\n",
              "      <td>Adherent</td>\n",
              "      <td>Y</td>\n",
              "      <td>Y</td>\n",
              "      <td>Y</td>\n",
              "      <td>Y</td>\n",
              "      <td>Y</td>\n",
              "      <td>Y</td>\n",
              "      <td>N</td>\n",
              "      <td>N</td>\n",
              "      <td>N</td>\n",
              "      <td>N</td>\n",
              "      <td>N</td>\n",
              "      <td>Y</td>\n",
              "      <td>Y</td>\n",
              "      <td>Y</td>\n",
              "      <td>N</td>\n",
              "      <td>N</td>\n",
              "      <td>N</td>\n",
              "      <td>Y</td>\n",
              "      <td>Y</td>\n",
              "      <td>Y</td>\n",
              "      <td>N</td>\n",
              "      <td>N</td>\n",
              "      <td>N</td>\n",
              "      <td>N</td>\n",
              "      <td>N</td>\n",
              "      <td>N</td>\n",
              "      <td>N</td>\n",
              "      <td>N</td>\n",
              "      <td>N</td>\n",
              "      <td>N</td>\n",
              "      <td>Y</td>\n",
              "      <td>N</td>\n",
              "      <td>Y</td>\n",
              "      <td>N</td>\n",
              "      <td>N</td>\n",
              "      <td>N</td>\n",
              "      <td>Y</td>\n",
              "      <td>N</td>\n",
              "      <td>Y</td>\n",
              "      <td>Y</td>\n",
              "      <td>N</td>\n",
              "      <td>N</td>\n",
              "      <td>N</td>\n",
              "      <td>N</td>\n",
              "      <td>N</td>\n",
              "      <td>5</td>\n",
              "    </tr>\n",
              "    <tr>\n",
              "      <th>495</th>\n",
              "      <td>P496</td>\n",
              "      <td>Persistent</td>\n",
              "      <td>Female</td>\n",
              "      <td>Caucasian</td>\n",
              "      <td>Not Hispanic</td>\n",
              "      <td>South</td>\n",
              "      <td>&gt;75</td>\n",
              "      <td>ENDOCRINOLOGY</td>\n",
              "      <td>Specialist</td>\n",
              "      <td>Endo/Onc/Uro</td>\n",
              "      <td>Y</td>\n",
              "      <td>Y</td>\n",
              "      <td>12</td>\n",
              "      <td>Y</td>\n",
              "      <td>N</td>\n",
              "      <td>N</td>\n",
              "      <td>VLR_LR</td>\n",
              "      <td>&gt;-2.5</td>\n",
              "      <td>VLR_LR</td>\n",
              "      <td>&gt;-2.5</td>\n",
              "      <td>No change</td>\n",
              "      <td>Unknown</td>\n",
              "      <td>Adherent</td>\n",
              "      <td>Y</td>\n",
              "      <td>Y</td>\n",
              "      <td>Y</td>\n",
              "      <td>Y</td>\n",
              "      <td>N</td>\n",
              "      <td>Y</td>\n",
              "      <td>Y</td>\n",
              "      <td>N</td>\n",
              "      <td>Y</td>\n",
              "      <td>N</td>\n",
              "      <td>Y</td>\n",
              "      <td>N</td>\n",
              "      <td>Y</td>\n",
              "      <td>N</td>\n",
              "      <td>N</td>\n",
              "      <td>Y</td>\n",
              "      <td>N</td>\n",
              "      <td>N</td>\n",
              "      <td>Y</td>\n",
              "      <td>Y</td>\n",
              "      <td>Y</td>\n",
              "      <td>N</td>\n",
              "      <td>N</td>\n",
              "      <td>Y</td>\n",
              "      <td>Y</td>\n",
              "      <td>N</td>\n",
              "      <td>N</td>\n",
              "      <td>N</td>\n",
              "      <td>N</td>\n",
              "      <td>N</td>\n",
              "      <td>Y</td>\n",
              "      <td>N</td>\n",
              "      <td>Y</td>\n",
              "      <td>N</td>\n",
              "      <td>Y</td>\n",
              "      <td>N</td>\n",
              "      <td>Y</td>\n",
              "      <td>N</td>\n",
              "      <td>Y</td>\n",
              "      <td>N</td>\n",
              "      <td>N</td>\n",
              "      <td>N</td>\n",
              "      <td>N</td>\n",
              "      <td>N</td>\n",
              "      <td>N</td>\n",
              "      <td>5</td>\n",
              "    </tr>\n",
              "    <tr>\n",
              "      <th>557</th>\n",
              "      <td>P558</td>\n",
              "      <td>Persistent</td>\n",
              "      <td>Female</td>\n",
              "      <td>Caucasian</td>\n",
              "      <td>Not Hispanic</td>\n",
              "      <td>South</td>\n",
              "      <td>65-75</td>\n",
              "      <td>ENDOCRINOLOGY</td>\n",
              "      <td>Specialist</td>\n",
              "      <td>Endo/Onc/Uro</td>\n",
              "      <td>Y</td>\n",
              "      <td>N</td>\n",
              "      <td>5</td>\n",
              "      <td>Y</td>\n",
              "      <td>N</td>\n",
              "      <td>N</td>\n",
              "      <td>VLR_LR</td>\n",
              "      <td>&gt;-2.5</td>\n",
              "      <td>VLR_LR</td>\n",
              "      <td>&gt;-2.5</td>\n",
              "      <td>No change</td>\n",
              "      <td>No change</td>\n",
              "      <td>Adherent</td>\n",
              "      <td>Y</td>\n",
              "      <td>Y</td>\n",
              "      <td>Y</td>\n",
              "      <td>Y</td>\n",
              "      <td>Y</td>\n",
              "      <td>Y</td>\n",
              "      <td>Y</td>\n",
              "      <td>N</td>\n",
              "      <td>Y</td>\n",
              "      <td>Y</td>\n",
              "      <td>Y</td>\n",
              "      <td>Y</td>\n",
              "      <td>Y</td>\n",
              "      <td>Y</td>\n",
              "      <td>Y</td>\n",
              "      <td>N</td>\n",
              "      <td>Y</td>\n",
              "      <td>Y</td>\n",
              "      <td>N</td>\n",
              "      <td>N</td>\n",
              "      <td>Y</td>\n",
              "      <td>N</td>\n",
              "      <td>Y</td>\n",
              "      <td>N</td>\n",
              "      <td>N</td>\n",
              "      <td>N</td>\n",
              "      <td>Y</td>\n",
              "      <td>N</td>\n",
              "      <td>N</td>\n",
              "      <td>N</td>\n",
              "      <td>N</td>\n",
              "      <td>N</td>\n",
              "      <td>Y</td>\n",
              "      <td>Y</td>\n",
              "      <td>N</td>\n",
              "      <td>N</td>\n",
              "      <td>N</td>\n",
              "      <td>N</td>\n",
              "      <td>Y</td>\n",
              "      <td>Y</td>\n",
              "      <td>N</td>\n",
              "      <td>N</td>\n",
              "      <td>N</td>\n",
              "      <td>N</td>\n",
              "      <td>N</td>\n",
              "      <td>5</td>\n",
              "    </tr>\n",
              "  </tbody>\n",
              "</table>\n",
              "</div>"
            ],
            "text/plain": [
              "     Ptid Persistency_Flag  ... Risk_Recurring_Falls Count_Of_Risks\n",
              "302  P303       Persistent  ...                    N              5\n",
              "342  P343       Persistent  ...                    N              6\n",
              "352  P353       Persistent  ...                    N              5\n",
              "495  P496       Persistent  ...                    N              5\n",
              "557  P558       Persistent  ...                    N              5\n",
              "\n",
              "[5 rows x 69 columns]"
            ]
          },
          "metadata": {},
          "execution_count": 32
        }
      ]
    },
    {
      "cell_type": "code",
      "metadata": {
        "id": "QoWnilGV3xob"
      },
      "source": [
        "#treating outliers\n",
        "#Applying the capping on outliers\n",
        "df1['Count_Of_Risks'] = np.where(\n",
        "    df1['Count_Of_Risks']> high,\n",
        "    high,\n",
        "    np.where(\n",
        "        df1['Count_Of_Risks']<low,\n",
        "        low,\n",
        "        df1['Count_Of_Risks']\n",
        "    )\n",
        ")"
      ],
      "execution_count": 33,
      "outputs": []
    },
    {
      "cell_type": "code",
      "metadata": {
        "colab": {
          "base_uri": "https://localhost:8080/",
          "height": 69
        },
        "id": "1__NG84q32GL",
        "outputId": "fb960a18-46c8-4d10-e0d0-748efb6ef549"
      },
      "source": [
        "#checking outliers after capping\n",
        "newdf=df1[(df1['Count_Of_Risks'] > high) | (df1['Count_Of_Risks'] < low)]\n",
        "newdf.head()"
      ],
      "execution_count": 34,
      "outputs": [
        {
          "output_type": "execute_result",
          "data": {
            "text/html": [
              "<div>\n",
              "<style scoped>\n",
              "    .dataframe tbody tr th:only-of-type {\n",
              "        vertical-align: middle;\n",
              "    }\n",
              "\n",
              "    .dataframe tbody tr th {\n",
              "        vertical-align: top;\n",
              "    }\n",
              "\n",
              "    .dataframe thead th {\n",
              "        text-align: right;\n",
              "    }\n",
              "</style>\n",
              "<table border=\"1\" class=\"dataframe\">\n",
              "  <thead>\n",
              "    <tr style=\"text-align: right;\">\n",
              "      <th></th>\n",
              "      <th>Ptid</th>\n",
              "      <th>Persistency_Flag</th>\n",
              "      <th>Gender</th>\n",
              "      <th>Race</th>\n",
              "      <th>Ethnicity</th>\n",
              "      <th>Region</th>\n",
              "      <th>Age_Bucket</th>\n",
              "      <th>Ntm_Speciality</th>\n",
              "      <th>Ntm_Specialist_Flag</th>\n",
              "      <th>Ntm_Speciality_Bucket</th>\n",
              "      <th>Gluco_Record_Prior_Ntm</th>\n",
              "      <th>Gluco_Record_During_Rx</th>\n",
              "      <th>Dexa_Freq_During_Rx</th>\n",
              "      <th>Dexa_During_Rx</th>\n",
              "      <th>Frag_Frac_Prior_Ntm</th>\n",
              "      <th>Frag_Frac_During_Rx</th>\n",
              "      <th>Risk_Segment_Prior_Ntm</th>\n",
              "      <th>Tscore_Bucket_Prior_Ntm</th>\n",
              "      <th>Risk_Segment_During_Rx</th>\n",
              "      <th>Tscore_Bucket_During_Rx</th>\n",
              "      <th>Change_T_Score</th>\n",
              "      <th>Change_Risk_Segment</th>\n",
              "      <th>Adherent_Flag</th>\n",
              "      <th>Idn_Indicator</th>\n",
              "      <th>Injectable_Experience_During_Rx</th>\n",
              "      <th>Comorb_Encounter_For_Screening_For_Malignant_Neoplasms</th>\n",
              "      <th>Comorb_Encounter_For_Immunization</th>\n",
              "      <th>Comorb_Encntr_For_General_Exam_W_O_Complaint,_Susp_Or_Reprtd_Dx</th>\n",
              "      <th>Comorb_Vitamin_D_Deficiency</th>\n",
              "      <th>Comorb_Other_Joint_Disorder_Not_Elsewhere_Classified</th>\n",
              "      <th>Comorb_Encntr_For_Oth_Sp_Exam_W_O_Complaint_Suspected_Or_Reprtd_Dx</th>\n",
              "      <th>Comorb_Long_Term_Current_Drug_Therapy</th>\n",
              "      <th>Comorb_Dorsalgia</th>\n",
              "      <th>Comorb_Personal_History_Of_Other_Diseases_And_Conditions</th>\n",
              "      <th>Comorb_Other_Disorders_Of_Bone_Density_And_Structure</th>\n",
              "      <th>Comorb_Disorders_of_lipoprotein_metabolism_and_other_lipidemias</th>\n",
              "      <th>Comorb_Osteoporosis_without_current_pathological_fracture</th>\n",
              "      <th>Comorb_Personal_history_of_malignant_neoplasm</th>\n",
              "      <th>Comorb_Gastro_esophageal_reflux_disease</th>\n",
              "      <th>Concom_Cholesterol_And_Triglyceride_Regulating_Preparations</th>\n",
              "      <th>Concom_Narcotics</th>\n",
              "      <th>Concom_Systemic_Corticosteroids_Plain</th>\n",
              "      <th>Concom_Anti_Depressants_And_Mood_Stabilisers</th>\n",
              "      <th>Concom_Fluoroquinolones</th>\n",
              "      <th>Concom_Cephalosporins</th>\n",
              "      <th>Concom_Macrolides_And_Similar_Types</th>\n",
              "      <th>Concom_Broad_Spectrum_Penicillins</th>\n",
              "      <th>Concom_Anaesthetics_General</th>\n",
              "      <th>Concom_Viral_Vaccines</th>\n",
              "      <th>Risk_Type_1_Insulin_Dependent_Diabetes</th>\n",
              "      <th>Risk_Osteogenesis_Imperfecta</th>\n",
              "      <th>Risk_Rheumatoid_Arthritis</th>\n",
              "      <th>Risk_Untreated_Chronic_Hyperthyroidism</th>\n",
              "      <th>Risk_Untreated_Chronic_Hypogonadism</th>\n",
              "      <th>Risk_Untreated_Early_Menopause</th>\n",
              "      <th>Risk_Patient_Parent_Fractured_Their_Hip</th>\n",
              "      <th>Risk_Smoking_Tobacco</th>\n",
              "      <th>Risk_Chronic_Malnutrition_Or_Malabsorption</th>\n",
              "      <th>Risk_Chronic_Liver_Disease</th>\n",
              "      <th>Risk_Family_History_Of_Osteoporosis</th>\n",
              "      <th>Risk_Low_Calcium_Intake</th>\n",
              "      <th>Risk_Vitamin_D_Insufficiency</th>\n",
              "      <th>Risk_Poor_Health_Frailty</th>\n",
              "      <th>Risk_Excessive_Thinness</th>\n",
              "      <th>Risk_Hysterectomy_Oophorectomy</th>\n",
              "      <th>Risk_Estrogen_Deficiency</th>\n",
              "      <th>Risk_Immobilization</th>\n",
              "      <th>Risk_Recurring_Falls</th>\n",
              "      <th>Count_Of_Risks</th>\n",
              "    </tr>\n",
              "  </thead>\n",
              "  <tbody>\n",
              "  </tbody>\n",
              "</table>\n",
              "</div>"
            ],
            "text/plain": [
              "Empty DataFrame\n",
              "Columns: [Ptid, Persistency_Flag, Gender, Race, Ethnicity, Region, Age_Bucket, Ntm_Speciality, Ntm_Specialist_Flag, Ntm_Speciality_Bucket, Gluco_Record_Prior_Ntm, Gluco_Record_During_Rx, Dexa_Freq_During_Rx, Dexa_During_Rx, Frag_Frac_Prior_Ntm, Frag_Frac_During_Rx, Risk_Segment_Prior_Ntm, Tscore_Bucket_Prior_Ntm, Risk_Segment_During_Rx, Tscore_Bucket_During_Rx, Change_T_Score, Change_Risk_Segment, Adherent_Flag, Idn_Indicator, Injectable_Experience_During_Rx, Comorb_Encounter_For_Screening_For_Malignant_Neoplasms, Comorb_Encounter_For_Immunization, Comorb_Encntr_For_General_Exam_W_O_Complaint,_Susp_Or_Reprtd_Dx, Comorb_Vitamin_D_Deficiency, Comorb_Other_Joint_Disorder_Not_Elsewhere_Classified, Comorb_Encntr_For_Oth_Sp_Exam_W_O_Complaint_Suspected_Or_Reprtd_Dx, Comorb_Long_Term_Current_Drug_Therapy, Comorb_Dorsalgia, Comorb_Personal_History_Of_Other_Diseases_And_Conditions, Comorb_Other_Disorders_Of_Bone_Density_And_Structure, Comorb_Disorders_of_lipoprotein_metabolism_and_other_lipidemias, Comorb_Osteoporosis_without_current_pathological_fracture, Comorb_Personal_history_of_malignant_neoplasm, Comorb_Gastro_esophageal_reflux_disease, Concom_Cholesterol_And_Triglyceride_Regulating_Preparations, Concom_Narcotics, Concom_Systemic_Corticosteroids_Plain, Concom_Anti_Depressants_And_Mood_Stabilisers, Concom_Fluoroquinolones, Concom_Cephalosporins, Concom_Macrolides_And_Similar_Types, Concom_Broad_Spectrum_Penicillins, Concom_Anaesthetics_General, Concom_Viral_Vaccines, Risk_Type_1_Insulin_Dependent_Diabetes, Risk_Osteogenesis_Imperfecta, Risk_Rheumatoid_Arthritis, Risk_Untreated_Chronic_Hyperthyroidism, Risk_Untreated_Chronic_Hypogonadism, Risk_Untreated_Early_Menopause, Risk_Patient_Parent_Fractured_Their_Hip, Risk_Smoking_Tobacco, Risk_Chronic_Malnutrition_Or_Malabsorption, Risk_Chronic_Liver_Disease, Risk_Family_History_Of_Osteoporosis, Risk_Low_Calcium_Intake, Risk_Vitamin_D_Insufficiency, Risk_Poor_Health_Frailty, Risk_Excessive_Thinness, Risk_Hysterectomy_Oophorectomy, Risk_Estrogen_Deficiency, Risk_Immobilization, Risk_Recurring_Falls, Count_Of_Risks]\n",
              "Index: []"
            ]
          },
          "metadata": {},
          "execution_count": 34
        }
      ]
    },
    {
      "cell_type": "markdown",
      "metadata": {
        "id": "gL4a03Fs5EdP"
      },
      "source": [
        "**Identification of Skewed Data and Treatment**"
      ]
    },
    {
      "cell_type": "markdown",
      "metadata": {
        "id": "6oi-TePTAShw"
      },
      "source": [
        "**Identification**"
      ]
    },
    {
      "cell_type": "markdown",
      "metadata": {
        "id": "8vrDLVVgAWgY"
      },
      "source": [
        "1. Using histograms"
      ]
    },
    {
      "cell_type": "code",
      "metadata": {
        "colab": {
          "base_uri": "https://localhost:8080/",
          "height": 1000
        },
        "id": "sL3PhgmqAcDo",
        "outputId": "af891cba-e856-4c56-95fa-8f668b95e22a"
      },
      "source": [
        "# ploting histogram for numerical columns\n",
        "def plot_histogram(df, cols, bins=6):\n",
        "    for col in cols:\n",
        "        fig = plt.figure(figsize=(8,8))\n",
        "        ax= fig.gca()\n",
        "        df[col].plot.hist(ax = ax, bins = bins, color = 'blue')\n",
        "        ax.set_title('Histogram of ' + col)\n",
        "        ax.set_xlabel(col)\n",
        "        ax.set_ylabel('Number')\n",
        "        plt.show()\n",
        "plot_histogram(df, num_cols)"
      ],
      "execution_count": 48,
      "outputs": [
        {
          "output_type": "display_data",
          "data": {
            "image/png": "[encoded data removed]",
            "text/plain": [
              "<Figure size 576x576 with 1 Axes>"
            ]
          },
          "metadata": {}
        },
        {
          "output_type": "display_data",
          "data": {
            "image/png": "[encoded data removed]",
            "text/plain": [
              "<Figure size 576x576 with 1 Axes>"
            ]
          },
          "metadata": {}
        }
      ]
    },
    {
      "cell_type": "markdown",
      "metadata": {
        "id": "dvj242eKAkaX"
      },
      "source": [
        "2. Getting skewness and kurtosis measurement"
      ]
    },
    {
      "cell_type": "code",
      "metadata": {
        "colab": {
          "base_uri": "https://localhost:8080/"
        },
        "id": "TRlxZDKoAFiU",
        "outputId": "7458b681-1128-46cf-a925-c6c915c5993a"
      },
      "source": [
        "def measure_skew_kurtosis(cols):\n",
        "    for col in cols:\n",
        "        print(col)\n",
        "        result = df[[col]].agg(['skew', 'kurtosis']).transpose()\n",
        "        print(result)\n",
        "measure_skew_kurtosis(num_cols)"
      ],
      "execution_count": 49,
      "outputs": [
        {
          "output_type": "stream",
          "name": "stdout",
          "text": [
            "Dexa_Freq_During_Rx\n",
            "                        skew   kurtosis\n",
            "Dexa_Freq_During_Rx  6.80873  74.758378\n",
            "Count_Of_Risks\n",
            "                    skew  kurtosis\n",
            "Count_Of_Risks  0.879791  0.900486\n"
          ]
        }
      ]
    },
    {
      "cell_type": "markdown",
      "metadata": {
        "id": "J5WYAUXqBLyS"
      },
      "source": [
        "3. Using boxplots"
      ]
    },
    {
      "cell_type": "code",
      "metadata": {
        "colab": {
          "base_uri": "https://localhost:8080/",
          "height": 511
        },
        "id": "R7qzMHYMAzJ-",
        "outputId": "ab8c6a48-4bca-41fb-fe0b-0d68420d9f0a"
      },
      "source": [
        "boxplot(df, num_cols)"
      ],
      "execution_count": 50,
      "outputs": [
        {
          "output_type": "display_data",
          "data": {
            "image/png": "[encoded data removed]",
            "text/plain": [
              "<Figure size 432x288 with 1 Axes>"
            ]
          },
          "metadata": {}
        },
        {
          "output_type": "display_data",
          "data": {
            "image/png": "[encoded data removed]",
            "text/plain": [
              "<Figure size 432x288 with 1 Axes>"
            ]
          },
          "metadata": {}
        }
      ]
    },
    {
      "cell_type": "markdown",
      "metadata": {
        "id": "FF-sQtgd5Tni"
      },
      "source": [
        "**Treatment**"
      ]
    },
    {
      "cell_type": "markdown",
      "metadata": {
        "id": "-8BuqMzg6uJm"
      },
      "source": [
        "1. Log Transformation"
      ]
    },
    {
      "cell_type": "code",
      "metadata": {
        "id": "vdb4mUOO610r"
      },
      "source": [
        "df2 = df.copy()"
      ],
      "execution_count": 40,
      "outputs": []
    },
    {
      "cell_type": "code",
      "metadata": {
        "id": "WTD7U7KQ7CJJ"
      },
      "source": [
        "df2[['log_Dexa','log_Count_Risks']] = np.log1p(df2[['Dexa_Freq_During_Rx','Count_Of_Risks']])"
      ],
      "execution_count": 41,
      "outputs": []
    },
    {
      "cell_type": "code",
      "metadata": {
        "colab": {
          "base_uri": "https://localhost:8080/",
          "height": 422
        },
        "id": "8oeaN0zz7NuA",
        "outputId": "98bc3b25-4fde-4bd3-fa55-89099f6dcd9f"
      },
      "source": [
        "df2[['log_Dexa','log_Count_Risks']]"
      ],
      "execution_count": 42,
      "outputs": [
        {
          "output_type": "execute_result",
          "data": {
            "text/html": [
              "<div>\n",
              "<style scoped>\n",
              "    .dataframe tbody tr th:only-of-type {\n",
              "        vertical-align: middle;\n",
              "    }\n",
              "\n",
              "    .dataframe tbody tr th {\n",
              "        vertical-align: top;\n",
              "    }\n",
              "\n",
              "    .dataframe thead th {\n",
              "        text-align: right;\n",
              "    }\n",
              "</style>\n",
              "<table border=\"1\" class=\"dataframe\">\n",
              "  <thead>\n",
              "    <tr style=\"text-align: right;\">\n",
              "      <th></th>\n",
              "      <th>log_Dexa</th>\n",
              "      <th>log_Count_Risks</th>\n",
              "    </tr>\n",
              "  </thead>\n",
              "  <tbody>\n",
              "    <tr>\n",
              "      <th>0</th>\n",
              "      <td>0.000000</td>\n",
              "      <td>0.000000</td>\n",
              "    </tr>\n",
              "    <tr>\n",
              "      <th>1</th>\n",
              "      <td>0.000000</td>\n",
              "      <td>0.000000</td>\n",
              "    </tr>\n",
              "    <tr>\n",
              "      <th>2</th>\n",
              "      <td>0.000000</td>\n",
              "      <td>1.098612</td>\n",
              "    </tr>\n",
              "    <tr>\n",
              "      <th>3</th>\n",
              "      <td>0.000000</td>\n",
              "      <td>0.693147</td>\n",
              "    </tr>\n",
              "    <tr>\n",
              "      <th>4</th>\n",
              "      <td>0.000000</td>\n",
              "      <td>0.693147</td>\n",
              "    </tr>\n",
              "    <tr>\n",
              "      <th>...</th>\n",
              "      <td>...</td>\n",
              "      <td>...</td>\n",
              "    </tr>\n",
              "    <tr>\n",
              "      <th>3419</th>\n",
              "      <td>0.000000</td>\n",
              "      <td>0.693147</td>\n",
              "    </tr>\n",
              "    <tr>\n",
              "      <th>3420</th>\n",
              "      <td>0.000000</td>\n",
              "      <td>0.000000</td>\n",
              "    </tr>\n",
              "    <tr>\n",
              "      <th>3421</th>\n",
              "      <td>2.079442</td>\n",
              "      <td>0.693147</td>\n",
              "    </tr>\n",
              "    <tr>\n",
              "      <th>3422</th>\n",
              "      <td>0.000000</td>\n",
              "      <td>0.000000</td>\n",
              "    </tr>\n",
              "    <tr>\n",
              "      <th>3423</th>\n",
              "      <td>0.000000</td>\n",
              "      <td>0.693147</td>\n",
              "    </tr>\n",
              "  </tbody>\n",
              "</table>\n",
              "<p>3424 rows × 2 columns</p>\n",
              "</div>"
            ],
            "text/plain": [
              "      log_Dexa  log_Count_Risks\n",
              "0     0.000000         0.000000\n",
              "1     0.000000         0.000000\n",
              "2     0.000000         1.098612\n",
              "3     0.000000         0.693147\n",
              "4     0.000000         0.693147\n",
              "...        ...              ...\n",
              "3419  0.000000         0.693147\n",
              "3420  0.000000         0.000000\n",
              "3421  2.079442         0.693147\n",
              "3422  0.000000         0.000000\n",
              "3423  0.000000         0.693147\n",
              "\n",
              "[3424 rows x 2 columns]"
            ]
          },
          "metadata": {},
          "execution_count": 42
        }
      ]
    },
    {
      "cell_type": "code",
      "metadata": {
        "colab": {
          "base_uri": "https://localhost:8080/",
          "height": 175
        },
        "id": "MqTnvG0x7WaI",
        "outputId": "d3232ce3-8863-4a22-c5b9-e71b12a13157"
      },
      "source": [
        "#Checking skew after transformation\n",
        "df2.agg(['skew', 'kurtosis']).transpose()"
      ],
      "execution_count": 44,
      "outputs": [
        {
          "output_type": "execute_result",
          "data": {
            "text/html": [
              "<div>\n",
              "<style scoped>\n",
              "    .dataframe tbody tr th:only-of-type {\n",
              "        vertical-align: middle;\n",
              "    }\n",
              "\n",
              "    .dataframe tbody tr th {\n",
              "        vertical-align: top;\n",
              "    }\n",
              "\n",
              "    .dataframe thead th {\n",
              "        text-align: right;\n",
              "    }\n",
              "</style>\n",
              "<table border=\"1\" class=\"dataframe\">\n",
              "  <thead>\n",
              "    <tr style=\"text-align: right;\">\n",
              "      <th></th>\n",
              "      <th>skew</th>\n",
              "      <th>kurtosis</th>\n",
              "    </tr>\n",
              "  </thead>\n",
              "  <tbody>\n",
              "    <tr>\n",
              "      <th>Dexa_Freq_During_Rx</th>\n",
              "      <td>6.808730</td>\n",
              "      <td>74.758378</td>\n",
              "    </tr>\n",
              "    <tr>\n",
              "      <th>Count_Of_Risks</th>\n",
              "      <td>0.879791</td>\n",
              "      <td>0.900486</td>\n",
              "    </tr>\n",
              "    <tr>\n",
              "      <th>log_Dexa</th>\n",
              "      <td>1.405860</td>\n",
              "      <td>0.624570</td>\n",
              "    </tr>\n",
              "    <tr>\n",
              "      <th>log_Count_Risks</th>\n",
              "      <td>-0.091583</td>\n",
              "      <td>-1.006414</td>\n",
              "    </tr>\n",
              "  </tbody>\n",
              "</table>\n",
              "</div>"
            ],
            "text/plain": [
              "                         skew   kurtosis\n",
              "Dexa_Freq_During_Rx  6.808730  74.758378\n",
              "Count_Of_Risks       0.879791   0.900486\n",
              "log_Dexa             1.405860   0.624570\n",
              "log_Count_Risks     -0.091583  -1.006414"
            ]
          },
          "metadata": {},
          "execution_count": 44
        }
      ]
    },
    {
      "cell_type": "code",
      "metadata": {
        "colab": {
          "base_uri": "https://localhost:8080/",
          "height": 481
        },
        "id": "CXkRPsNP7gip",
        "outputId": "fa7e495b-a446-4f47-8fac-79e1b4955f1b"
      },
      "source": [
        "df2.hist(grid=False,\n",
        "       figsize=(10, 6),\n",
        "       bins=10)"
      ],
      "execution_count": 45,
      "outputs": [
        {
          "output_type": "execute_result",
          "data": {
            "text/plain": [
              "array([[<matplotlib.axes._subplots.AxesSubplot object at 0x7f192a23b510>,\n",
              "        <matplotlib.axes._subplots.AxesSubplot object at 0x7f192a256fd0>],\n",
              "       [<matplotlib.axes._subplots.AxesSubplot object at 0x7f192a2f3590>,\n",
              "        <matplotlib.axes._subplots.AxesSubplot object at 0x7f192a5b3610>]],\n",
              "      dtype=object)"
            ]
          },
          "metadata": {},
          "execution_count": 45
        },
        {
          "output_type": "display_data",
          "data": {
            "image/png": "[encoded data removed]",
            "text/plain": [
              "<Figure size 720x432 with 4 Axes>"
            ]
          },
          "metadata": {}
        }
      ]
    },
    {
      "cell_type": "markdown",
      "metadata": {
        "id": "U5m6MnMS5nJG"
      },
      "source": [
        "2. Recipricol Transformation"
      ]
    },
    {
      "cell_type": "code",
      "metadata": {
        "id": "avKamd865u-N"
      },
      "source": [
        "df3 = df.copy()"
      ],
      "execution_count": 35,
      "outputs": []
    },
    {
      "cell_type": "code",
      "metadata": {
        "colab": {
          "base_uri": "https://localhost:8080/"
        },
        "id": "ePqUrjd85yQe",
        "outputId": "6ddb8865-33d1-4629-82fe-56b5968aa032"
      },
      "source": [
        "df3[['reci_Dexa','reci_Count_Risks']] = np.reciprocal(df3[['Dexa_Freq_During_Rx','Count_Of_Risks']])"
      ],
      "execution_count": 36,
      "outputs": [
        {
          "output_type": "stream",
          "name": "stderr",
          "text": [
            "/usr/local/lib/python3.7/dist-packages/ipykernel_launcher.py:1: RuntimeWarning: divide by zero encountered in reciprocal\n",
            "  \"\"\"Entry point for launching an IPython kernel.\n",
            "/usr/local/lib/python3.7/dist-packages/ipykernel_launcher.py:1: RuntimeWarning: invalid value encountered in reciprocal\n",
            "  \"\"\"Entry point for launching an IPython kernel.\n"
          ]
        }
      ]
    },
    {
      "cell_type": "code",
      "metadata": {
        "colab": {
          "base_uri": "https://localhost:8080/",
          "height": 422
        },
        "id": "uXzRtqNQ6CeD",
        "outputId": "d8aa99fe-968a-4ab0-c40b-ebaff425361f"
      },
      "source": [
        "df3[['reci_Dexa','reci_Count_Risks']]"
      ],
      "execution_count": 37,
      "outputs": [
        {
          "output_type": "execute_result",
          "data": {
            "text/html": [
              "<div>\n",
              "<style scoped>\n",
              "    .dataframe tbody tr th:only-of-type {\n",
              "        vertical-align: middle;\n",
              "    }\n",
              "\n",
              "    .dataframe tbody tr th {\n",
              "        vertical-align: top;\n",
              "    }\n",
              "\n",
              "    .dataframe thead th {\n",
              "        text-align: right;\n",
              "    }\n",
              "</style>\n",
              "<table border=\"1\" class=\"dataframe\">\n",
              "  <thead>\n",
              "    <tr style=\"text-align: right;\">\n",
              "      <th></th>\n",
              "      <th>reci_Dexa</th>\n",
              "      <th>reci_Count_Risks</th>\n",
              "    </tr>\n",
              "  </thead>\n",
              "  <tbody>\n",
              "    <tr>\n",
              "      <th>0</th>\n",
              "      <td>-9223372036854775808</td>\n",
              "      <td>-9223372036854775808</td>\n",
              "    </tr>\n",
              "    <tr>\n",
              "      <th>1</th>\n",
              "      <td>-9223372036854775808</td>\n",
              "      <td>-9223372036854775808</td>\n",
              "    </tr>\n",
              "    <tr>\n",
              "      <th>2</th>\n",
              "      <td>-9223372036854775808</td>\n",
              "      <td>0</td>\n",
              "    </tr>\n",
              "    <tr>\n",
              "      <th>3</th>\n",
              "      <td>-9223372036854775808</td>\n",
              "      <td>1</td>\n",
              "    </tr>\n",
              "    <tr>\n",
              "      <th>4</th>\n",
              "      <td>-9223372036854775808</td>\n",
              "      <td>1</td>\n",
              "    </tr>\n",
              "    <tr>\n",
              "      <th>...</th>\n",
              "      <td>...</td>\n",
              "      <td>...</td>\n",
              "    </tr>\n",
              "    <tr>\n",
              "      <th>3419</th>\n",
              "      <td>-9223372036854775808</td>\n",
              "      <td>1</td>\n",
              "    </tr>\n",
              "    <tr>\n",
              "      <th>3420</th>\n",
              "      <td>-9223372036854775808</td>\n",
              "      <td>-9223372036854775808</td>\n",
              "    </tr>\n",
              "    <tr>\n",
              "      <th>3421</th>\n",
              "      <td>0</td>\n",
              "      <td>1</td>\n",
              "    </tr>\n",
              "    <tr>\n",
              "      <th>3422</th>\n",
              "      <td>-9223372036854775808</td>\n",
              "      <td>-9223372036854775808</td>\n",
              "    </tr>\n",
              "    <tr>\n",
              "      <th>3423</th>\n",
              "      <td>-9223372036854775808</td>\n",
              "      <td>1</td>\n",
              "    </tr>\n",
              "  </tbody>\n",
              "</table>\n",
              "<p>3424 rows × 2 columns</p>\n",
              "</div>"
            ],
            "text/plain": [
              "                reci_Dexa     reci_Count_Risks\n",
              "0    -9223372036854775808 -9223372036854775808\n",
              "1    -9223372036854775808 -9223372036854775808\n",
              "2    -9223372036854775808                    0\n",
              "3    -9223372036854775808                    1\n",
              "4    -9223372036854775808                    1\n",
              "...                   ...                  ...\n",
              "3419 -9223372036854775808                    1\n",
              "3420 -9223372036854775808 -9223372036854775808\n",
              "3421                    0                    1\n",
              "3422 -9223372036854775808 -9223372036854775808\n",
              "3423 -9223372036854775808                    1\n",
              "\n",
              "[3424 rows x 2 columns]"
            ]
          },
          "metadata": {},
          "execution_count": 37
        }
      ]
    },
    {
      "cell_type": "code",
      "metadata": {
        "colab": {
          "base_uri": "https://localhost:8080/",
          "height": 175
        },
        "id": "hkhL9n3n6Im7",
        "outputId": "fa3696c9-3228-4637-cb78-5c6de1356e9c"
      },
      "source": [
        "#Checking skew after transformation\n",
        "df3.agg(['skew', 'kurtosis']).transpose()"
      ],
      "execution_count": 38,
      "outputs": [
        {
          "output_type": "execute_result",
          "data": {
            "text/html": [
              "<div>\n",
              "<style scoped>\n",
              "    .dataframe tbody tr th:only-of-type {\n",
              "        vertical-align: middle;\n",
              "    }\n",
              "\n",
              "    .dataframe tbody tr th {\n",
              "        vertical-align: top;\n",
              "    }\n",
              "\n",
              "    .dataframe thead th {\n",
              "        text-align: right;\n",
              "    }\n",
              "</style>\n",
              "<table border=\"1\" class=\"dataframe\">\n",
              "  <thead>\n",
              "    <tr style=\"text-align: right;\">\n",
              "      <th></th>\n",
              "      <th>skew</th>\n",
              "      <th>kurtosis</th>\n",
              "    </tr>\n",
              "  </thead>\n",
              "  <tbody>\n",
              "    <tr>\n",
              "      <th>Dexa_Freq_During_Rx</th>\n",
              "      <td>6.808730</td>\n",
              "      <td>74.758378</td>\n",
              "    </tr>\n",
              "    <tr>\n",
              "      <th>Count_Of_Risks</th>\n",
              "      <td>0.879791</td>\n",
              "      <td>0.900486</td>\n",
              "    </tr>\n",
              "    <tr>\n",
              "      <th>reci_Dexa</th>\n",
              "      <td>1.017464</td>\n",
              "      <td>-0.965332</td>\n",
              "    </tr>\n",
              "    <tr>\n",
              "      <th>reci_Count_Risks</th>\n",
              "      <td>-0.962279</td>\n",
              "      <td>-1.074647</td>\n",
              "    </tr>\n",
              "  </tbody>\n",
              "</table>\n",
              "</div>"
            ],
            "text/plain": [
              "                         skew   kurtosis\n",
              "Dexa_Freq_During_Rx  6.808730  74.758378\n",
              "Count_Of_Risks       0.879791   0.900486\n",
              "reci_Dexa            1.017464  -0.965332\n",
              "reci_Count_Risks    -0.962279  -1.074647"
            ]
          },
          "metadata": {},
          "execution_count": 38
        }
      ]
    },
    {
      "cell_type": "code",
      "metadata": {
        "colab": {
          "base_uri": "https://localhost:8080/",
          "height": 494
        },
        "id": "KCY7jFLh6ZIE",
        "outputId": "d60fd70e-1f3d-4abf-c860-8a93ecbe4484"
      },
      "source": [
        "df3.hist(grid=False,\n",
        "       figsize=(10, 6),\n",
        "       bins=10)"
      ],
      "execution_count": 39,
      "outputs": [
        {
          "output_type": "execute_result",
          "data": {
            "text/plain": [
              "array([[<matplotlib.axes._subplots.AxesSubplot object at 0x7f192a31ed90>,\n",
              "        <matplotlib.axes._subplots.AxesSubplot object at 0x7f192a113e10>],\n",
              "       [<matplotlib.axes._subplots.AxesSubplot object at 0x7f192a0a3910>,\n",
              "        <matplotlib.axes._subplots.AxesSubplot object at 0x7f192a0d4f90>]],\n",
              "      dtype=object)"
            ]
          },
          "metadata": {},
          "execution_count": 39
        },
        {
          "output_type": "display_data",
          "data": {
            "image/png": "[encoded data removed]",
            "text/plain": [
              "<Figure size 720x432 with 4 Axes>"
            ]
          },
          "metadata": {}
        }
      ]
    },
    {
      "cell_type": "markdown",
      "metadata": {
        "id": "tcmmwBvTBkJM"
      },
      "source": [
        "3. Min-Max Transformation"
      ]
    },
    {
      "cell_type": "code",
      "metadata": {
        "colab": {
          "base_uri": "https://localhost:8080/",
          "height": 1000
        },
        "id": "EFsD624eBqO7",
        "outputId": "68e7749a-51d4-450b-9e2f-1af37f1914cd"
      },
      "source": [
        "# min-max normalization\n",
        "from sklearn.preprocessing import MinMaxScaler\n",
        "scaler = MinMaxScaler()\n",
        "df_min_max = df.copy() #getting a copy of dataframe\n",
        "for col in num_cols:\n",
        "    data = np.array(df_min_max[[col]])\n",
        "    scaler.fit(data)#computing min and max to be used for scaling\n",
        "    df['min_max_'+col] = scaler.transform(data) \n",
        "    measure_skew_kurtosis(['min_max_'+col]) #measure skewness and kurtosis\n",
        "    plot_histogram(df, ['min_max_'+col]) # plot histogram"
      ],
      "execution_count": 51,
      "outputs": [
        {
          "output_type": "stream",
          "name": "stdout",
          "text": [
            "min_max_Dexa_Freq_During_Rx\n",
            "                                skew   kurtosis\n",
            "min_max_Dexa_Freq_During_Rx  6.80873  74.758378\n"
          ]
        },
        {
          "output_type": "display_data",
          "data": {
            "image/png": "[encoded data removed]",
            "text/plain": [
              "<Figure size 576x576 with 1 Axes>"
            ]
          },
          "metadata": {}
        },
        {
          "output_type": "stream",
          "name": "stdout",
          "text": [
            "min_max_Count_Of_Risks\n",
            "                            skew  kurtosis\n",
            "min_max_Count_Of_Risks  0.879791  0.900486\n"
          ]
        },
        {
          "output_type": "display_data",
          "data": {
            "image/png": "[encoded data removed]",
            "text/plain": [
              "<Figure size 576x576 with 1 Axes>"
            ]
          },
          "metadata": {}
        }
      ]
    },
    {
      "cell_type": "markdown",
      "metadata": {
        "id": "VibU0Fw2B7kH"
      },
      "source": [
        "4. Square root Transformation"
      ]
    },
    {
      "cell_type": "code",
      "metadata": {
        "colab": {
          "base_uri": "https://localhost:8080/",
          "height": 1000
        },
        "id": "uT47CqE8CEpr",
        "outputId": "bb29be7e-13f8-4a4c-a6c5-96ce6215b91a"
      },
      "source": [
        "for col in num_cols:\n",
        "    df['sqrt_'+col] = np.sqrt(df[col])\n",
        "    measure_skew_kurtosis(['sqrt_'+col]) #measure skewness and kurtosis\n",
        "    plot_histogram(df, ['sqrt_'+col]) # plot histogram"
      ],
      "execution_count": 52,
      "outputs": [
        {
          "output_type": "stream",
          "name": "stdout",
          "text": [
            "sqrt_Dexa_Freq_During_Rx\n",
            "                              skew  kurtosis\n",
            "sqrt_Dexa_Freq_During_Rx  1.992495  4.734647\n"
          ]
        },
        {
          "output_type": "display_data",
          "data": {
            "image/png": "[encoded data removed]",
            "text/plain": [
              "<Figure size 576x576 with 1 Axes>"
            ]
          },
          "metadata": {}
        },
        {
          "output_type": "stream",
          "name": "stdout",
          "text": [
            "sqrt_Count_Of_Risks\n",
            "                         skew  kurtosis\n",
            "sqrt_Count_Of_Risks -0.327599 -1.038321\n"
          ]
        },
        {
          "output_type": "display_data",
          "data": {
            "image/png": "[encoded data removed]",
            "text/plain": [
              "<Figure size 576x576 with 1 Axes>"
            ]
          },
          "metadata": {}
        }
      ]
    },
    {
      "cell_type": "markdown",
      "metadata": {
        "id": "fyp6c_aPCo12"
      },
      "source": [
        "5 Trimming outliers"
      ]
    },
    {
      "cell_type": "code",
      "metadata": {
        "id": "ejQf19vNDTHe"
      },
      "source": [
        "import seaborn as sns\n",
        "# for Q-Q plots\n",
        "import scipy.stats as stats\n",
        "def diagnostic_plots(df, variable):\n",
        "    # function takes a dataframe (df) and\n",
        "    # the variable of interest as arguments\n",
        "\n",
        "    # define figure size\n",
        "    plt.figure(figsize=(16, 4))\n",
        "\n",
        "    # histogram\n",
        "    plt.subplot(1, 3, 1)\n",
        "    sns.histplot(df[variable], bins=30)\n",
        "    plt.title('Histogram')\n",
        "\n",
        "    # Q-Q plot\n",
        "    plt.subplot(1, 3, 2)\n",
        "    stats.probplot(df[variable], dist=\"norm\", plot=plt)\n",
        "    plt.ylabel('RM quantiles')\n",
        "\n",
        "    # boxplot\n",
        "    plt.subplot(1, 3, 3)\n",
        "    sns.boxplot(y=df[variable])\n",
        "    plt.title('Boxplot')\n",
        "\n",
        "    plt.show()"
      ],
      "execution_count": 54,
      "outputs": []
    },
    {
      "cell_type": "code",
      "metadata": {
        "id": "txmn4qn5CumI"
      },
      "source": [
        "# function to find upper and lower boundaries\n",
        "# for skewed distributed variables\n",
        "\n",
        "\n",
        "def find_skewed_boundaries(df, variable, distance):\n",
        "\n",
        "    # Let's calculate the boundaries outside which sit the outliers\n",
        "    # for skewed distributions\n",
        "\n",
        "    # distance passed as an argument, gives us the option to\n",
        "    # estimate 1.5 times or 3 times the IQR to calculate\n",
        "    # the boundaries.\n",
        "\n",
        "    IQR = df[variable].quantile(0.75) - df[variable].quantile(0.25)\n",
        "\n",
        "    lower_boundary = df[variable].quantile(0.25) - (IQR * distance)\n",
        "    upper_boundary = df[variable].quantile(0.75) + (IQR * distance)\n",
        "\n",
        "    return upper_boundary, lower_boundary"
      ],
      "execution_count": 53,
      "outputs": []
    },
    {
      "cell_type": "markdown",
      "metadata": {
        "id": "kZvm2vIYDZ_e"
      },
      "source": [
        "For column Dexa_Freq_During_Rx"
      ]
    },
    {
      "cell_type": "code",
      "metadata": {
        "id": "W3pR_i78D2Dd"
      },
      "source": [
        "df_trim = df.copy()"
      ],
      "execution_count": 56,
      "outputs": []
    },
    {
      "cell_type": "code",
      "metadata": {
        "colab": {
          "base_uri": "https://localhost:8080/",
          "height": 296
        },
        "id": "-vj7s3v3FPbV",
        "outputId": "4e11b5d9-6cd5-439c-8238-7beb9b481cc4"
      },
      "source": [
        "#plotting before transformation\n",
        "diagnostic_plots(df_trim, 'Dexa_Freq_During_Rx')"
      ],
      "execution_count": 63,
      "outputs": [
        {
          "output_type": "display_data",
          "data": {
            "image/png": "[encoded data removed]",
            "text/plain": [
              "<Figure size 1152x288 with 3 Axes>"
            ]
          },
          "metadata": {}
        }
      ]
    },
    {
      "cell_type": "code",
      "metadata": {
        "colab": {
          "base_uri": "https://localhost:8080/"
        },
        "id": "0S0lWdWBDfwl",
        "outputId": "2273c75b-cdf9-454c-d328-b63b12fcd32f"
      },
      "source": [
        "# looking for outliers,\n",
        "# using the interquantile proximity rule\n",
        "# IQR * 1.5, the standard metric\n",
        "\n",
        "# dataset\n",
        "\n",
        "upper_boundary, lower_boundary = find_skewed_boundaries(df_trim, 'Dexa_Freq_During_Rx', 1.5)\n",
        "upper_boundary, lower_boundary"
      ],
      "execution_count": 57,
      "outputs": [
        {
          "output_type": "execute_result",
          "data": {
            "text/plain": [
              "(7.5, -4.5)"
            ]
          },
          "metadata": {},
          "execution_count": 57
        }
      ]
    },
    {
      "cell_type": "code",
      "metadata": {
        "colab": {
          "base_uri": "https://localhost:8080/"
        },
        "id": "rkiH1odSEAFm",
        "outputId": "fb54e6be-63f2-470d-f828-82b3c777678b"
      },
      "source": [
        "# lets look at the number and percentage of outliers\n",
        "# for LSTAT\n",
        "\n",
        "print('total umber of patients: {}'.format(len(data)))\n",
        "\n",
        "print('Patients with Dexa_Freq_During_Rx bigger than 32: {}'.format(\n",
        "    len(df_trim[df_trim['Dexa_Freq_During_Rx'] > upper_boundary])))\n",
        "print()\n",
        "print('%Patients with Dexa_Freq_During_Rx bigger than 32: {}'.format(\n",
        "    len(df_trim[df_trim['Dexa_Freq_During_Rx'] > upper_boundary])/len(df_trim)))"
      ],
      "execution_count": 58,
      "outputs": [
        {
          "output_type": "stream",
          "name": "stdout",
          "text": [
            "total umber of patients: 3424\n",
            "Patients with Dexa_Freq_During_Rx bigger than 32: 460\n",
            "\n",
            "%Patients with Dexa_Freq_During_Rx bigger than 32: 0.13434579439252337\n"
          ]
        }
      ]
    },
    {
      "cell_type": "code",
      "metadata": {
        "colab": {
          "base_uri": "https://localhost:8080/"
        },
        "id": "TfJ6Qd29EWj7",
        "outputId": "9d6735f3-30bd-4469-c489-2631507934f0"
      },
      "source": [
        "# limits for CRIM\n",
        "\n",
        "CRIM_upper_limit, CRIM_lower_limit = find_skewed_boundaries(df_trim, 'Dexa_Freq_During_Rx', 1.5)\n",
        "CRIM_upper_limit, CRIM_lower_limit"
      ],
      "execution_count": 59,
      "outputs": [
        {
          "output_type": "execute_result",
          "data": {
            "text/plain": [
              "(7.5, -4.5)"
            ]
          },
          "metadata": {},
          "execution_count": 59
        }
      ]
    },
    {
      "cell_type": "code",
      "metadata": {
        "id": "qXay3Y7mExEQ"
      },
      "source": [
        "# let's flag the outliers in the data set\n",
        "\n",
        "outliers_CRIM = np.where(df_trim['Dexa_Freq_During_Rx'] > CRIM_upper_limit, True,\n",
        "                       np.where(df_trim['Dexa_Freq_During_Rx'] < CRIM_lower_limit, True, False))"
      ],
      "execution_count": 60,
      "outputs": []
    },
    {
      "cell_type": "code",
      "metadata": {
        "colab": {
          "base_uri": "https://localhost:8080/"
        },
        "id": "idpRoPq2E5Fa",
        "outputId": "8e2ee4c8-b807-48ef-a2b4-25453a06d9ea"
      },
      "source": [
        "# let's trimm the dataset\n",
        "\n",
        "data_trimmed = df_trim.loc[~(outliers_CRIM), ]\n",
        "\n",
        "data.shape, data_trimmed.shape"
      ],
      "execution_count": 61,
      "outputs": [
        {
          "output_type": "execute_result",
          "data": {
            "text/plain": [
              "((3424, 1), (2964, 73))"
            ]
          },
          "metadata": {},
          "execution_count": 61
        }
      ]
    },
    {
      "cell_type": "code",
      "metadata": {
        "colab": {
          "base_uri": "https://localhost:8080/",
          "height": 296
        },
        "id": "neXocMbjFEgx",
        "outputId": "5f3fdc94-dfb5-4fa7-ec6c-b18669c99293"
      },
      "source": [
        "#plotting after transformation\n",
        "diagnostic_plots(data_trimmed, 'Dexa_Freq_During_Rx')"
      ],
      "execution_count": 64,
      "outputs": [
        {
          "output_type": "display_data",
          "data": {
            "image/png": "[encoded data removed]",
            "text/plain": [
              "<Figure size 1152x288 with 3 Axes>"
            ]
          },
          "metadata": {}
        }
      ]
    },
    {
      "cell_type": "markdown",
      "metadata": {
        "id": "hP8oI2f4Fo_r"
      },
      "source": [
        "For column count of risks"
      ]
    },
    {
      "cell_type": "code",
      "metadata": {
        "colab": {
          "base_uri": "https://localhost:8080/",
          "height": 296
        },
        "id": "DarGGtk0FmHX",
        "outputId": "d23bbb34-50db-4a4d-fb5e-76c0452c9360"
      },
      "source": [
        "diagnostic_plots(df_trim, 'Count_Of_Risks')"
      ],
      "execution_count": 65,
      "outputs": [
        {
          "output_type": "display_data",
          "data": {
            "image/png": "[encoded data removed]",
            "text/plain": [
              "<Figure size 1152x288 with 3 Axes>"
            ]
          },
          "metadata": {}
        }
      ]
    },
    {
      "cell_type": "code",
      "metadata": {
        "colab": {
          "base_uri": "https://localhost:8080/"
        },
        "id": "cgPp3PCzF1FH",
        "outputId": "6b8e7aa5-472e-4a2d-ee78-97dba9718b4d"
      },
      "source": [
        "# looking for outliers,\n",
        "# using the interquantile proximity rule\n",
        "# IQR * 1.5, the standard metric\n",
        "\n",
        "# dataset\n",
        "\n",
        "upper_boundary, lower_boundary = find_skewed_boundaries(df_trim, 'Count_Of_Risks', 1.5)\n",
        "upper_boundary, lower_boundary"
      ],
      "execution_count": 66,
      "outputs": [
        {
          "output_type": "execute_result",
          "data": {
            "text/plain": [
              "(5.0, -3.0)"
            ]
          },
          "metadata": {},
          "execution_count": 66
        }
      ]
    },
    {
      "cell_type": "code",
      "metadata": {
        "colab": {
          "base_uri": "https://localhost:8080/"
        },
        "id": "LjBY2zftF2Sa",
        "outputId": "733ddae9-f2bb-4fed-df36-6f85b5a2106f"
      },
      "source": [
        "# lets look at the number and percentage of outliers\n",
        "# for LSTAT\n",
        "\n",
        "print('total umber of patients: {}'.format(len(data)))\n",
        "\n",
        "print('Patients with Count_Of_Risks bigger than 32: {}'.format(\n",
        "    len(df_trim[df_trim['Count_Of_Risks'] > upper_boundary])))\n",
        "print()\n",
        "print('%Patients with Count_Of_Risks bigger than 32: {}'.format(\n",
        "    len(df_trim[df_trim['Count_Of_Risks'] > upper_boundary])/len(df_trim)))"
      ],
      "execution_count": 67,
      "outputs": [
        {
          "output_type": "stream",
          "name": "stdout",
          "text": [
            "total umber of patients: 3424\n",
            "Patients with Count_Of_Risks bigger than 32: 8\n",
            "\n",
            "%Patients with Count_Of_Risks bigger than 32: 0.002336448598130841\n"
          ]
        }
      ]
    },
    {
      "cell_type": "code",
      "metadata": {
        "colab": {
          "base_uri": "https://localhost:8080/"
        },
        "id": "dO9xlayuF7WB",
        "outputId": "f912bad2-9566-4c0f-c278-c6530d7ada12"
      },
      "source": [
        "# limits for CRIM\n",
        "\n",
        "CRIM_upper_limit, CRIM_lower_limit = find_skewed_boundaries(df_trim, 'Count_Of_Risks', 1.5)\n",
        "CRIM_upper_limit, CRIM_lower_limit"
      ],
      "execution_count": 68,
      "outputs": [
        {
          "output_type": "execute_result",
          "data": {
            "text/plain": [
              "(5.0, -3.0)"
            ]
          },
          "metadata": {},
          "execution_count": 68
        }
      ]
    },
    {
      "cell_type": "code",
      "metadata": {
        "id": "dDCuf2GkF_af"
      },
      "source": [
        "# let's flag the outliers in the data set\n",
        "\n",
        "outliers_CRIM = np.where(df_trim['Count_Of_Risks'] > CRIM_upper_limit, True,\n",
        "                       np.where(df_trim['Count_Of_Risks'] < CRIM_lower_limit, True, False))"
      ],
      "execution_count": 69,
      "outputs": []
    },
    {
      "cell_type": "code",
      "metadata": {
        "colab": {
          "base_uri": "https://localhost:8080/"
        },
        "id": "tGpriq7HGEVR",
        "outputId": "2f0ff4ac-29d4-4468-e7c5-19ea695df133"
      },
      "source": [
        "# let's trimm the dataset\n",
        "\n",
        "data_trimmed = df_trim.loc[~(outliers_CRIM), ]\n",
        "\n",
        "data.shape, data_trimmed.shape"
      ],
      "execution_count": 70,
      "outputs": [
        {
          "output_type": "execute_result",
          "data": {
            "text/plain": [
              "((3424, 1), (3416, 73))"
            ]
          },
          "metadata": {},
          "execution_count": 70
        }
      ]
    },
    {
      "cell_type": "code",
      "metadata": {
        "colab": {
          "base_uri": "https://localhost:8080/",
          "height": 296
        },
        "id": "jswGHJrKGIk0",
        "outputId": "4ce6b1ce-9f06-4b8c-d9ce-ba5022a09be9"
      },
      "source": [
        "#plotting after transformation\n",
        "diagnostic_plots(data_trimmed, 'Count_Of_Risks')"
      ],
      "execution_count": 71,
      "outputs": [
        {
          "output_type": "display_data",
          "data": {
            "image/png": "[encoded data removed]",
            "text/plain": [
              "<Figure size 1152x288 with 3 Axes>"
            ]
          },
          "metadata": {}
        }
      ]
    },
    {
      "cell_type": "markdown",
      "metadata": {
        "id": "navifaS-HFHp"
      },
      "source": [
        "**Identifying and Treating Class Imbalance**"
      ]
    },
    {
      "cell_type": "markdown",
      "metadata": {
        "id": "EPt5-meGHNwx"
      },
      "source": [
        "**Identifying**"
      ]
    },
    {
      "cell_type": "code",
      "metadata": {
        "colab": {
          "base_uri": "https://localhost:8080/"
        },
        "id": "jIoNuB90HLUK",
        "outputId": "f35c550a-55ed-4a98-ab3f-02b834daa161"
      },
      "source": [
        "print(df['Persistency_Flag'].value_counts())"
      ],
      "execution_count": 72,
      "outputs": [
        {
          "output_type": "stream",
          "name": "stdout",
          "text": [
            "Non-Persistent    2135\n",
            "Persistent        1289\n",
            "Name: Persistency_Flag, dtype: int64\n"
          ]
        }
      ]
    },
    {
      "cell_type": "code",
      "metadata": {
        "colab": {
          "base_uri": "https://localhost:8080/",
          "height": 329
        },
        "id": "ct1ZPbTpHk4Y",
        "outputId": "56a1716f-9a9e-4300-ccc4-137f437a4d14"
      },
      "source": [
        "#bar graph for value counts for categorical columns\n",
        "def plot_catcols(x, df):\n",
        "    df['dummy'] = np.ones(shape = df.shape[0])\n",
        "    for col in x:\n",
        "        print(col)\n",
        "        counts = df[['dummy', col]].groupby([col], as_index = False).count()\n",
        "        fig, ax = plt.subplots(figsize = (10,4))\n",
        "        graph = plt.barh(counts[col], counts.dummy) #creating a graph\n",
        "        plt.xticks(rotation=90)\n",
        "        plt.title('Counts for ' + col)\n",
        "        plt.xlabel('count')\n",
        "        #getting percentages\n",
        "        total = counts['dummy'].sum()\n",
        "        percentage = []\n",
        "        for i in range(counts.shape[0]):\n",
        "            pct = (counts.dummy[i]/total)*100\n",
        "            percentage.append(round(pct, 2))\n",
        "        counts['Percentage'] = percentage\n",
        "        # plotting the graph with percentages\n",
        "        i = 0\n",
        "        for p in graph:\n",
        "            pct = f'{percentage[i]}%'\n",
        "            width1, height1 =p.get_width(),p.get_height()\n",
        "            x1 =p.get_x()+width1\n",
        "            y1=p.get_y()+height1/2\n",
        "            ax.annotate(pct,(x1,y1))\n",
        "            i+=1\n",
        "        plt.show()\n",
        "plot_catcols(['Persistency_Flag'], df)"
      ],
      "execution_count": 73,
      "outputs": [
        {
          "output_type": "stream",
          "name": "stdout",
          "text": [
            "Persistency_Flag\n"
          ]
        },
        {
          "output_type": "display_data",
          "data": {
            "image/png": "[encoded data removed]",
            "text/plain": [
              "<Figure size 720x288 with 1 Axes>"
            ]
          },
          "metadata": {}
        }
      ]
    },
    {
      "cell_type": "markdown",
      "metadata": {
        "id": "EoR1e0d2H0DA"
      },
      "source": [
        "**Treating by Oversampling minority class**"
      ]
    },
    {
      "cell_type": "code",
      "metadata": {
        "colab": {
          "base_uri": "https://localhost:8080/",
          "height": 384
        },
        "id": "0WpRVSe9H6Go",
        "outputId": "00c6c1fd-09ad-47bf-bc03-5a3c65dc49f3"
      },
      "source": [
        "# dealing with class imbalance in the target variable\n",
        "# oversampling the minority class i.e 'Persistent'\n",
        "\n",
        "from sklearn.utils import resample\n",
        "\n",
        "# separating minority and majority classes\n",
        "non_persistent = df[df['Persistency_Flag']=='Non-Persistent']\n",
        "persistent = df[df['Persistency_Flag']=='Persistent']\n",
        "\n",
        "# oversampling minority\n",
        "persistent_upsampled = resample(persistent,\n",
        "                           replace=True, # sample with replacement\n",
        "                           n_samples=len(non_persistent), # match number in majority class\n",
        "                           random_state=27) # reproducible results\n",
        "\n",
        "# combine majority and upsampled minority\n",
        "upsampled_df = pd.concat([non_persistent, persistent_upsampled])\n",
        "\n",
        "# check new class counts\n",
        "print(upsampled_df['Persistency_Flag'].value_counts())\n",
        "# plotting graph of upsampled dataset\n",
        "plot_catcols(['Persistency_Flag'], upsampled_df)"
      ],
      "execution_count": 74,
      "outputs": [
        {
          "output_type": "stream",
          "name": "stdout",
          "text": [
            "Non-Persistent    2135\n",
            "Persistent        2135\n",
            "Name: Persistency_Flag, dtype: int64\n",
            "Persistency_Flag\n"
          ]
        },
        {
          "output_type": "display_data",
          "data": {
            "image/png": "[encoded data removed]",
            "text/plain": [
              "<Figure size 720x288 with 1 Axes>"
            ]
          },
          "metadata": {}
        }
      ]
    }
  ]
}